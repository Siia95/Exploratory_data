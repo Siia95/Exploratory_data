{
 "cells": [
  {
   "cell_type": "code",
   "execution_count": 17,
   "metadata": {
    "colab": {
     "base_uri": "https://localhost:8080/",
     "height": 791
    },
    "executionInfo": {
     "elapsed": 1010,
     "status": "ok",
     "timestamp": 1699885295439,
     "user": {
      "displayName": "Анастасія Рибакова",
      "userId": "01514582576634099270"
     },
     "user_tz": -120
    },
    "id": "mM2jZijRDVZv",
    "outputId": "0d7ce1c9-78e0-425d-b9f9-0c2d3f57be30",
    "ExecuteTime": {
     "end_time": "2023-11-13T20:18:30.918037Z",
     "start_time": "2023-11-13T20:18:28.494361Z"
    }
   },
   "outputs": [
    {
     "data": {
      "text/plain": "         N                 Должность Язык.программирования Специализация  \\\n0        1        Junior QA engineer                   NaN     Manual QA   \n1        2        Junior QA engineer                   NaN     Manual QA   \n2        3         Software Engineer               C#/.NET           NaN   \n3        4         Software Engineer            JavaScript           NaN   \n4        5  Senior Software Engineer            JavaScript           NaN   \n...    ...                       ...                   ...           ...   \n8699  8700               QA engineer                   NaN     Manual QA   \n8700  8701                 Marketing                   NaN           NaN   \n8701  8702  Junior Software Engineer            Ruby/Rails           NaN   \n8702  8703                 Team lead                   NaN           NaN   \n8703  8704  Senior Software Engineer                  Java           NaN   \n\n     Общий.опыт.работы Опыт.работы.на.текущем.месте  Зарплата.в.месяц  \\\n0                  0.5                          0.5               400   \n1     меньше 3 месяцев             меньше 3 месяцев               430   \n2                    4                            1              2500   \n3                    5                            4              2000   \n4       10 и более лет                          0.5              4500   \n...                ...                          ...               ...   \n8699                 1             меньше 3 месяцев               700   \n8700               0.5                          0.5               400   \n8701                 1                          0.5               800   \n8702                 6                            4              2600   \n8703                 7                            2              5000   \n\n      Изменение.зарплаты.за.12.месяцев    Город     Размер.компании  ...  \\\n0                                    0  Харьков       до 10 человек  ...   \n1                                  130  Харьков  свыше 1000 человек  ...   \n2                                  800     Киев     до 1000 человек  ...   \n3                                  400   Одесса      до 200 человек  ...   \n4                                  500   Другой       до 10 человек  ...   \n...                                ...      ...                 ...  ...   \n8699                               700   Одесса       до 50 человек  ...   \n8700                               120     Киев       до 50 человек  ...   \n8701                               500    Львов       до 10 человек  ...   \n8702                                 0    Днепр  свыше 1000 человек  ...   \n8703                               800   Одесса     до 1000 человек  ...   \n\n     Еще.студент Уровень.английского                    Предметная.область  \\\n0           True       ниже среднего                         iOS,eCommerce   \n1           True       выше среднего                        Веб-разработка   \n2          False             средний  Веб-разработка,Корпоративные системы   \n3          False       ниже среднего   Desktop Applications,Веб-разработка   \n4          False             средний   Desktop Applications,Веб-разработка   \n...          ...                 ...                                   ...   \n8699       False             средний          Android,Desktop Applications   \n8700       False       ниже среднего                             eCommerce   \n8701       False       выше среднего  Веб-разработка,Корпоративные системы   \n8702       False         продвинутый                       Финансы и банки   \n8703       False       выше среднего                        Веб-разработка   \n\n          Дата.заполнения                                         User.Agent  \\\n0     12/06/2017 12:38:08  Mozilla/5.0 (Windows NT 10.0; Win64; x64) Appl...   \n1     12/06/2017 12:42:51  Mozilla/5.0 (iPad; CPU OS 10_2_1 like Mac OS X...   \n2     12/06/2017 13:02:47  Mozilla/5.0 (Windows NT 10.0; Win64; x64) Appl...   \n3     12/06/2017 13:03:01  Mozilla/5.0 (Windows NT 6.1; Win64; x64) Apple...   \n4     12/06/2017 13:03:47  Mozilla/5.0 (iPhone; CPU iPhone OS 10_3_2 like...   \n...                   ...                                                ...   \n8699  12/07/2017 15:45:24  Mozilla/5.0 (X11; Ubuntu; Linux x86_64; rv:54....   \n8700  12/07/2017 17:00:06  Mozilla/5.0 (Windows NT 10.0; Win64; x64) Appl...   \n8701  12/07/2017 17:32:26  Mozilla/5.0 (X11; Linux x86_64) AppleWebKit/53...   \n8702  12/07/2017 18:14:59  Mozilla/5.0 (Windows NT 6.1) AppleWebKit/537.3...   \n8703  12/07/2017 21:28:57  Mozilla/5.0 (iPad; CPU OS 10_3_2 like Mac OS X...   \n\n       exp current_job_exp salary Валюта  cls  \n0      0.5             0.5    400    NaN   QA  \n1      0.0             0.0    430    NaN   QA  \n2      4.0             1.0   2500    NaN  DEV  \n3      5.0             4.0   2000    NaN  DEV  \n4     10.0             0.5   4500    NaN  DEV  \n...    ...             ...    ...    ...  ...  \n8699   1.0             0.0    700    NaN   QA  \n8700   0.5             0.5    400    NaN  NaN  \n8701   1.0             0.5    800    NaN  DEV  \n8702   6.0             4.0   2600    NaN   PM  \n8703   7.0             2.0   5000    NaN  DEV  \n\n[8704 rows x 25 columns]",
      "text/html": "<div>\n<style scoped>\n    .dataframe tbody tr th:only-of-type {\n        vertical-align: middle;\n    }\n\n    .dataframe tbody tr th {\n        vertical-align: top;\n    }\n\n    .dataframe thead th {\n        text-align: right;\n    }\n</style>\n<table border=\"1\" class=\"dataframe\">\n  <thead>\n    <tr style=\"text-align: right;\">\n      <th></th>\n      <th>N</th>\n      <th>Должность</th>\n      <th>Язык.программирования</th>\n      <th>Специализация</th>\n      <th>Общий.опыт.работы</th>\n      <th>Опыт.работы.на.текущем.месте</th>\n      <th>Зарплата.в.месяц</th>\n      <th>Изменение.зарплаты.за.12.месяцев</th>\n      <th>Город</th>\n      <th>Размер.компании</th>\n      <th>...</th>\n      <th>Еще.студент</th>\n      <th>Уровень.английского</th>\n      <th>Предметная.область</th>\n      <th>Дата.заполнения</th>\n      <th>User.Agent</th>\n      <th>exp</th>\n      <th>current_job_exp</th>\n      <th>salary</th>\n      <th>Валюта</th>\n      <th>cls</th>\n    </tr>\n  </thead>\n  <tbody>\n    <tr>\n      <th>0</th>\n      <td>1</td>\n      <td>Junior QA engineer</td>\n      <td>NaN</td>\n      <td>Manual QA</td>\n      <td>0.5</td>\n      <td>0.5</td>\n      <td>400</td>\n      <td>0</td>\n      <td>Харьков</td>\n      <td>до 10 человек</td>\n      <td>...</td>\n      <td>True</td>\n      <td>ниже среднего</td>\n      <td>iOS,eCommerce</td>\n      <td>12/06/2017 12:38:08</td>\n      <td>Mozilla/5.0 (Windows NT 10.0; Win64; x64) Appl...</td>\n      <td>0.5</td>\n      <td>0.5</td>\n      <td>400</td>\n      <td>NaN</td>\n      <td>QA</td>\n    </tr>\n    <tr>\n      <th>1</th>\n      <td>2</td>\n      <td>Junior QA engineer</td>\n      <td>NaN</td>\n      <td>Manual QA</td>\n      <td>меньше 3 месяцев</td>\n      <td>меньше 3 месяцев</td>\n      <td>430</td>\n      <td>130</td>\n      <td>Харьков</td>\n      <td>свыше 1000 человек</td>\n      <td>...</td>\n      <td>True</td>\n      <td>выше среднего</td>\n      <td>Веб-разработка</td>\n      <td>12/06/2017 12:42:51</td>\n      <td>Mozilla/5.0 (iPad; CPU OS 10_2_1 like Mac OS X...</td>\n      <td>0.0</td>\n      <td>0.0</td>\n      <td>430</td>\n      <td>NaN</td>\n      <td>QA</td>\n    </tr>\n    <tr>\n      <th>2</th>\n      <td>3</td>\n      <td>Software Engineer</td>\n      <td>C#/.NET</td>\n      <td>NaN</td>\n      <td>4</td>\n      <td>1</td>\n      <td>2500</td>\n      <td>800</td>\n      <td>Киев</td>\n      <td>до 1000 человек</td>\n      <td>...</td>\n      <td>False</td>\n      <td>средний</td>\n      <td>Веб-разработка,Корпоративные системы</td>\n      <td>12/06/2017 13:02:47</td>\n      <td>Mozilla/5.0 (Windows NT 10.0; Win64; x64) Appl...</td>\n      <td>4.0</td>\n      <td>1.0</td>\n      <td>2500</td>\n      <td>NaN</td>\n      <td>DEV</td>\n    </tr>\n    <tr>\n      <th>3</th>\n      <td>4</td>\n      <td>Software Engineer</td>\n      <td>JavaScript</td>\n      <td>NaN</td>\n      <td>5</td>\n      <td>4</td>\n      <td>2000</td>\n      <td>400</td>\n      <td>Одесса</td>\n      <td>до 200 человек</td>\n      <td>...</td>\n      <td>False</td>\n      <td>ниже среднего</td>\n      <td>Desktop Applications,Веб-разработка</td>\n      <td>12/06/2017 13:03:01</td>\n      <td>Mozilla/5.0 (Windows NT 6.1; Win64; x64) Apple...</td>\n      <td>5.0</td>\n      <td>4.0</td>\n      <td>2000</td>\n      <td>NaN</td>\n      <td>DEV</td>\n    </tr>\n    <tr>\n      <th>4</th>\n      <td>5</td>\n      <td>Senior Software Engineer</td>\n      <td>JavaScript</td>\n      <td>NaN</td>\n      <td>10 и более лет</td>\n      <td>0.5</td>\n      <td>4500</td>\n      <td>500</td>\n      <td>Другой</td>\n      <td>до 10 человек</td>\n      <td>...</td>\n      <td>False</td>\n      <td>средний</td>\n      <td>Desktop Applications,Веб-разработка</td>\n      <td>12/06/2017 13:03:47</td>\n      <td>Mozilla/5.0 (iPhone; CPU iPhone OS 10_3_2 like...</td>\n      <td>10.0</td>\n      <td>0.5</td>\n      <td>4500</td>\n      <td>NaN</td>\n      <td>DEV</td>\n    </tr>\n    <tr>\n      <th>...</th>\n      <td>...</td>\n      <td>...</td>\n      <td>...</td>\n      <td>...</td>\n      <td>...</td>\n      <td>...</td>\n      <td>...</td>\n      <td>...</td>\n      <td>...</td>\n      <td>...</td>\n      <td>...</td>\n      <td>...</td>\n      <td>...</td>\n      <td>...</td>\n      <td>...</td>\n      <td>...</td>\n      <td>...</td>\n      <td>...</td>\n      <td>...</td>\n      <td>...</td>\n      <td>...</td>\n    </tr>\n    <tr>\n      <th>8699</th>\n      <td>8700</td>\n      <td>QA engineer</td>\n      <td>NaN</td>\n      <td>Manual QA</td>\n      <td>1</td>\n      <td>меньше 3 месяцев</td>\n      <td>700</td>\n      <td>700</td>\n      <td>Одесса</td>\n      <td>до 50 человек</td>\n      <td>...</td>\n      <td>False</td>\n      <td>средний</td>\n      <td>Android,Desktop Applications</td>\n      <td>12/07/2017 15:45:24</td>\n      <td>Mozilla/5.0 (X11; Ubuntu; Linux x86_64; rv:54....</td>\n      <td>1.0</td>\n      <td>0.0</td>\n      <td>700</td>\n      <td>NaN</td>\n      <td>QA</td>\n    </tr>\n    <tr>\n      <th>8700</th>\n      <td>8701</td>\n      <td>Marketing</td>\n      <td>NaN</td>\n      <td>NaN</td>\n      <td>0.5</td>\n      <td>0.5</td>\n      <td>400</td>\n      <td>120</td>\n      <td>Киев</td>\n      <td>до 50 человек</td>\n      <td>...</td>\n      <td>False</td>\n      <td>ниже среднего</td>\n      <td>eCommerce</td>\n      <td>12/07/2017 17:00:06</td>\n      <td>Mozilla/5.0 (Windows NT 10.0; Win64; x64) Appl...</td>\n      <td>0.5</td>\n      <td>0.5</td>\n      <td>400</td>\n      <td>NaN</td>\n      <td>NaN</td>\n    </tr>\n    <tr>\n      <th>8701</th>\n      <td>8702</td>\n      <td>Junior Software Engineer</td>\n      <td>Ruby/Rails</td>\n      <td>NaN</td>\n      <td>1</td>\n      <td>0.5</td>\n      <td>800</td>\n      <td>500</td>\n      <td>Львов</td>\n      <td>до 10 человек</td>\n      <td>...</td>\n      <td>False</td>\n      <td>выше среднего</td>\n      <td>Веб-разработка,Корпоративные системы</td>\n      <td>12/07/2017 17:32:26</td>\n      <td>Mozilla/5.0 (X11; Linux x86_64) AppleWebKit/53...</td>\n      <td>1.0</td>\n      <td>0.5</td>\n      <td>800</td>\n      <td>NaN</td>\n      <td>DEV</td>\n    </tr>\n    <tr>\n      <th>8702</th>\n      <td>8703</td>\n      <td>Team lead</td>\n      <td>NaN</td>\n      <td>NaN</td>\n      <td>6</td>\n      <td>4</td>\n      <td>2600</td>\n      <td>0</td>\n      <td>Днепр</td>\n      <td>свыше 1000 человек</td>\n      <td>...</td>\n      <td>False</td>\n      <td>продвинутый</td>\n      <td>Финансы и банки</td>\n      <td>12/07/2017 18:14:59</td>\n      <td>Mozilla/5.0 (Windows NT 6.1) AppleWebKit/537.3...</td>\n      <td>6.0</td>\n      <td>4.0</td>\n      <td>2600</td>\n      <td>NaN</td>\n      <td>PM</td>\n    </tr>\n    <tr>\n      <th>8703</th>\n      <td>8704</td>\n      <td>Senior Software Engineer</td>\n      <td>Java</td>\n      <td>NaN</td>\n      <td>7</td>\n      <td>2</td>\n      <td>5000</td>\n      <td>800</td>\n      <td>Одесса</td>\n      <td>до 1000 человек</td>\n      <td>...</td>\n      <td>False</td>\n      <td>выше среднего</td>\n      <td>Веб-разработка</td>\n      <td>12/07/2017 21:28:57</td>\n      <td>Mozilla/5.0 (iPad; CPU OS 10_3_2 like Mac OS X...</td>\n      <td>7.0</td>\n      <td>2.0</td>\n      <td>5000</td>\n      <td>NaN</td>\n      <td>DEV</td>\n    </tr>\n  </tbody>\n</table>\n<p>8704 rows × 25 columns</p>\n</div>"
     },
     "execution_count": 17,
     "metadata": {},
     "output_type": "execute_result"
    }
   ],
   "source": [
    "#Прочитайте файл 2017_jun_final.csv за допомогою методу read_csv\n",
    "import pandas as pd\n",
    "\n",
    "file_path = \"https://drive.google.com/file/d/1JMYqXipZpz9Y5-vyxvLEO2Y1sRBxqu-U/view\"\n",
    "file_id = file_path.split(\"/\")[-2]\n",
    "download_link = f\"https://drive.google.com/uc?id={file_id}\"\n",
    "df = pd.read_csv(download_link)\n",
    "df"
   ]
  },
  {
   "cell_type": "code",
   "execution_count": 18,
   "metadata": {
    "colab": {
     "base_uri": "https://localhost:8080/",
     "height": 568
    },
    "executionInfo": {
     "elapsed": 11,
     "status": "ok",
     "timestamp": 1699885318903,
     "user": {
      "displayName": "Анастасія Рибакова",
      "userId": "01514582576634099270"
     },
     "user_tz": -120
    },
    "id": "a9ACkx6wDx5r",
    "outputId": "6ba50082-81c8-4732-815a-4f80ec17ebc5",
    "ExecuteTime": {
     "end_time": "2023-11-13T20:18:30.930861Z",
     "start_time": "2023-11-13T20:18:30.920795Z"
    }
   },
   "outputs": [
    {
     "name": "stdout",
     "output_type": "stream",
     "text": [
      "Перші 5 рядків таблиці:\n"
     ]
    },
    {
     "data": {
      "text/plain": "   N                 Должность Язык.программирования Специализация  \\\n0  1        Junior QA engineer                   NaN     Manual QA   \n1  2        Junior QA engineer                   NaN     Manual QA   \n2  3         Software Engineer               C#/.NET           NaN   \n3  4         Software Engineer            JavaScript           NaN   \n4  5  Senior Software Engineer            JavaScript           NaN   \n\n  Общий.опыт.работы Опыт.работы.на.текущем.месте  Зарплата.в.месяц  \\\n0               0.5                          0.5               400   \n1  меньше 3 месяцев             меньше 3 месяцев               430   \n2                 4                            1              2500   \n3                 5                            4              2000   \n4    10 и более лет                          0.5              4500   \n\n   Изменение.зарплаты.за.12.месяцев    Город     Размер.компании  ...  \\\n0                                 0  Харьков       до 10 человек  ...   \n1                               130  Харьков  свыше 1000 человек  ...   \n2                               800     Киев     до 1000 человек  ...   \n3                               400   Одесса      до 200 человек  ...   \n4                               500   Другой       до 10 человек  ...   \n\n  Еще.студент Уровень.английского                    Предметная.область  \\\n0        True       ниже среднего                         iOS,eCommerce   \n1        True       выше среднего                        Веб-разработка   \n2       False             средний  Веб-разработка,Корпоративные системы   \n3       False       ниже среднего   Desktop Applications,Веб-разработка   \n4       False             средний   Desktop Applications,Веб-разработка   \n\n       Дата.заполнения                                         User.Agent  \\\n0  12/06/2017 12:38:08  Mozilla/5.0 (Windows NT 10.0; Win64; x64) Appl...   \n1  12/06/2017 12:42:51  Mozilla/5.0 (iPad; CPU OS 10_2_1 like Mac OS X...   \n2  12/06/2017 13:02:47  Mozilla/5.0 (Windows NT 10.0; Win64; x64) Appl...   \n3  12/06/2017 13:03:01  Mozilla/5.0 (Windows NT 6.1; Win64; x64) Apple...   \n4  12/06/2017 13:03:47  Mozilla/5.0 (iPhone; CPU iPhone OS 10_3_2 like...   \n\n    exp current_job_exp salary Валюта  cls  \n0   0.5             0.5    400    NaN   QA  \n1   0.0             0.0    430    NaN   QA  \n2   4.0             1.0   2500    NaN  DEV  \n3   5.0             4.0   2000    NaN  DEV  \n4  10.0             0.5   4500    NaN  DEV  \n\n[5 rows x 25 columns]",
      "text/html": "<div>\n<style scoped>\n    .dataframe tbody tr th:only-of-type {\n        vertical-align: middle;\n    }\n\n    .dataframe tbody tr th {\n        vertical-align: top;\n    }\n\n    .dataframe thead th {\n        text-align: right;\n    }\n</style>\n<table border=\"1\" class=\"dataframe\">\n  <thead>\n    <tr style=\"text-align: right;\">\n      <th></th>\n      <th>N</th>\n      <th>Должность</th>\n      <th>Язык.программирования</th>\n      <th>Специализация</th>\n      <th>Общий.опыт.работы</th>\n      <th>Опыт.работы.на.текущем.месте</th>\n      <th>Зарплата.в.месяц</th>\n      <th>Изменение.зарплаты.за.12.месяцев</th>\n      <th>Город</th>\n      <th>Размер.компании</th>\n      <th>...</th>\n      <th>Еще.студент</th>\n      <th>Уровень.английского</th>\n      <th>Предметная.область</th>\n      <th>Дата.заполнения</th>\n      <th>User.Agent</th>\n      <th>exp</th>\n      <th>current_job_exp</th>\n      <th>salary</th>\n      <th>Валюта</th>\n      <th>cls</th>\n    </tr>\n  </thead>\n  <tbody>\n    <tr>\n      <th>0</th>\n      <td>1</td>\n      <td>Junior QA engineer</td>\n      <td>NaN</td>\n      <td>Manual QA</td>\n      <td>0.5</td>\n      <td>0.5</td>\n      <td>400</td>\n      <td>0</td>\n      <td>Харьков</td>\n      <td>до 10 человек</td>\n      <td>...</td>\n      <td>True</td>\n      <td>ниже среднего</td>\n      <td>iOS,eCommerce</td>\n      <td>12/06/2017 12:38:08</td>\n      <td>Mozilla/5.0 (Windows NT 10.0; Win64; x64) Appl...</td>\n      <td>0.5</td>\n      <td>0.5</td>\n      <td>400</td>\n      <td>NaN</td>\n      <td>QA</td>\n    </tr>\n    <tr>\n      <th>1</th>\n      <td>2</td>\n      <td>Junior QA engineer</td>\n      <td>NaN</td>\n      <td>Manual QA</td>\n      <td>меньше 3 месяцев</td>\n      <td>меньше 3 месяцев</td>\n      <td>430</td>\n      <td>130</td>\n      <td>Харьков</td>\n      <td>свыше 1000 человек</td>\n      <td>...</td>\n      <td>True</td>\n      <td>выше среднего</td>\n      <td>Веб-разработка</td>\n      <td>12/06/2017 12:42:51</td>\n      <td>Mozilla/5.0 (iPad; CPU OS 10_2_1 like Mac OS X...</td>\n      <td>0.0</td>\n      <td>0.0</td>\n      <td>430</td>\n      <td>NaN</td>\n      <td>QA</td>\n    </tr>\n    <tr>\n      <th>2</th>\n      <td>3</td>\n      <td>Software Engineer</td>\n      <td>C#/.NET</td>\n      <td>NaN</td>\n      <td>4</td>\n      <td>1</td>\n      <td>2500</td>\n      <td>800</td>\n      <td>Киев</td>\n      <td>до 1000 человек</td>\n      <td>...</td>\n      <td>False</td>\n      <td>средний</td>\n      <td>Веб-разработка,Корпоративные системы</td>\n      <td>12/06/2017 13:02:47</td>\n      <td>Mozilla/5.0 (Windows NT 10.0; Win64; x64) Appl...</td>\n      <td>4.0</td>\n      <td>1.0</td>\n      <td>2500</td>\n      <td>NaN</td>\n      <td>DEV</td>\n    </tr>\n    <tr>\n      <th>3</th>\n      <td>4</td>\n      <td>Software Engineer</td>\n      <td>JavaScript</td>\n      <td>NaN</td>\n      <td>5</td>\n      <td>4</td>\n      <td>2000</td>\n      <td>400</td>\n      <td>Одесса</td>\n      <td>до 200 человек</td>\n      <td>...</td>\n      <td>False</td>\n      <td>ниже среднего</td>\n      <td>Desktop Applications,Веб-разработка</td>\n      <td>12/06/2017 13:03:01</td>\n      <td>Mozilla/5.0 (Windows NT 6.1; Win64; x64) Apple...</td>\n      <td>5.0</td>\n      <td>4.0</td>\n      <td>2000</td>\n      <td>NaN</td>\n      <td>DEV</td>\n    </tr>\n    <tr>\n      <th>4</th>\n      <td>5</td>\n      <td>Senior Software Engineer</td>\n      <td>JavaScript</td>\n      <td>NaN</td>\n      <td>10 и более лет</td>\n      <td>0.5</td>\n      <td>4500</td>\n      <td>500</td>\n      <td>Другой</td>\n      <td>до 10 человек</td>\n      <td>...</td>\n      <td>False</td>\n      <td>средний</td>\n      <td>Desktop Applications,Веб-разработка</td>\n      <td>12/06/2017 13:03:47</td>\n      <td>Mozilla/5.0 (iPhone; CPU iPhone OS 10_3_2 like...</td>\n      <td>10.0</td>\n      <td>0.5</td>\n      <td>4500</td>\n      <td>NaN</td>\n      <td>DEV</td>\n    </tr>\n  </tbody>\n</table>\n<p>5 rows × 25 columns</p>\n</div>"
     },
     "execution_count": 18,
     "metadata": {},
     "output_type": "execute_result"
    }
   ],
   "source": [
    "#Прочитайте отриману таблицю, використовуючи метод head\n",
    "print(\"Перші 5 рядків таблиці:\")\n",
    "df.head()"
   ]
  },
  {
   "cell_type": "code",
   "execution_count": 19,
   "metadata": {
    "colab": {
     "base_uri": "https://localhost:8080/"
    },
    "executionInfo": {
     "elapsed": 4,
     "status": "ok",
     "timestamp": 1699885341951,
     "user": {
      "displayName": "Анастасія Рибакова",
      "userId": "01514582576634099270"
     },
     "user_tz": -120
    },
    "id": "seKJiWVzD32L",
    "outputId": "4f7817aa-4c05-483c-b4c6-1cffd85ef9f6",
    "ExecuteTime": {
     "end_time": "2023-11-13T20:18:30.931136Z",
     "start_time": "2023-11-13T20:18:30.926162Z"
    }
   },
   "outputs": [
    {
     "name": "stdout",
     "output_type": "stream",
     "text": [
      "\n",
      "Розмір таблиці:\n"
     ]
    },
    {
     "data": {
      "text/plain": "(8704, 25)"
     },
     "execution_count": 19,
     "metadata": {},
     "output_type": "execute_result"
    }
   ],
   "source": [
    "#Визначте розмір таблиці за допомогою методу shape\n",
    "print(\"\\nРозмір таблиці:\")\n",
    "df.shape"
   ]
  },
  {
   "cell_type": "code",
   "execution_count": 20,
   "metadata": {
    "colab": {
     "base_uri": "https://localhost:8080/"
    },
    "executionInfo": {
     "elapsed": 3,
     "status": "ok",
     "timestamp": 1699885377288,
     "user": {
      "displayName": "Анастасія Рибакова",
      "userId": "01514582576634099270"
     },
     "user_tz": -120
    },
    "id": "N_3NtICND9dX",
    "outputId": "2746e94b-3fe9-4360-dd1b-a0d758709425",
    "ExecuteTime": {
     "end_time": "2023-11-13T20:18:30.955648Z",
     "start_time": "2023-11-13T20:18:30.930991Z"
    }
   },
   "outputs": [
    {
     "name": "stdout",
     "output_type": "stream",
     "text": [
      "\n",
      "Типи стовпців:\n"
     ]
    },
    {
     "data": {
      "text/plain": "N                                     int64\nДолжность                            object\nЯзык.программирования                object\nСпециализация                        object\nОбщий.опыт.работы                    object\nОпыт.работы.на.текущем.месте         object\nЗарплата.в.месяц                      int64\nИзменение.зарплаты.за.12.месяцев      int64\nГород                                object\nРазмер.компании                      object\nТип.компании                         object\nПол                                  object\nВозраст                               int64\nОбразование                          object\nУниверситет                          object\nЕще.студент                            bool\nУровень.английского                  object\nПредметная.область                   object\nДата.заполнения                      object\nUser.Agent                           object\nexp                                 float64\ncurrent_job_exp                     float64\nsalary                                int64\nВалюта                               object\ncls                                  object\ndtype: object"
     },
     "execution_count": 20,
     "metadata": {},
     "output_type": "execute_result"
    }
   ],
   "source": [
    "#Визначте типи всіх стовпців за допомогою dataframe.dtypes\n",
    "print(\"\\nТипи стовпців:\")\n",
    "df.dtypes"
   ]
  },
  {
   "cell_type": "code",
   "execution_count": 21,
   "metadata": {
    "colab": {
     "base_uri": "https://localhost:8080/"
    },
    "executionInfo": {
     "elapsed": 5,
     "status": "ok",
     "timestamp": 1699885408435,
     "user": {
      "displayName": "Анастасія Рибакова",
      "userId": "01514582576634099270"
     },
     "user_tz": -120
    },
    "id": "cySSw-QmEGHJ",
    "outputId": "3d295a2a-176b-4f8a-bff2-d4f3c2b1efe8",
    "ExecuteTime": {
     "end_time": "2023-11-13T20:18:30.978243Z",
     "start_time": "2023-11-13T20:18:30.947304Z"
    }
   },
   "outputs": [
    {
     "name": "stdout",
     "output_type": "stream",
     "text": [
      "\n",
      "Частка пропусків в кожному стовпці:\n"
     ]
    },
    {
     "data": {
      "text/plain": "N                                    0.000000\nДолжность                            0.000000\nЯзык.программирования               44.232537\nСпециализация                       82.938879\nОбщий.опыт.работы                    0.000000\nОпыт.работы.на.текущем.месте         0.000000\nЗарплата.в.месяц                     0.000000\nИзменение.зарплаты.за.12.месяцев     0.000000\nГород                                0.000000\nРазмер.компании                      0.000000\nТип.компании                         0.000000\nПол                                  0.000000\nВозраст                              0.000000\nОбразование                          0.000000\nУниверситет                          4.113051\nЕще.студент                          0.000000\nУровень.английского                  0.000000\nПредметная.область                   2.562040\nДата.заполнения                      0.000000\nUser.Agent                           0.000000\nexp                                  0.000000\ncurrent_job_exp                      0.000000\nsalary                               0.000000\nВалюта                              99.885110\ncls                                 18.083640\ndtype: float64"
     },
     "execution_count": 21,
     "metadata": {},
     "output_type": "execute_result"
    }
   ],
   "source": [
    "#Порахуйте, яка частка пропусків міститься в кожній колонці (використовуйте методи isnull та sum)\n",
    "print(\"\\nЧастка пропусків в кожному стовпці:\")\n",
    "df.isnull().sum() / len(df) * 100"
   ]
  },
  {
   "cell_type": "code",
   "execution_count": 33,
   "metadata": {
    "colab": {
     "base_uri": "https://localhost:8080/",
     "height": 895
    },
    "executionInfo": {
     "elapsed": 8,
     "status": "ok",
     "timestamp": 1699885517238,
     "user": {
      "displayName": "Анастасія Рибакова",
      "userId": "01514582576634099270"
     },
     "user_tz": -120
    },
    "id": "DalupyYbENuN",
    "outputId": "d1f9142e-4568-46af-c710-55235cfa3da2",
    "ExecuteTime": {
     "end_time": "2023-11-13T20:32:41.150460Z",
     "start_time": "2023-11-13T20:32:41.097233Z"
    }
   },
   "outputs": [
    {
     "data": {
      "text/plain": "         N                 Должность Язык.программирования Общий.опыт.работы  \\\n0        1        Junior QA engineer                   NaN               0.5   \n1        2        Junior QA engineer                   NaN  меньше 3 месяцев   \n2        3         Software Engineer               C#/.NET                 4   \n3        4         Software Engineer            JavaScript                 5   \n4        5  Senior Software Engineer            JavaScript    10 и более лет   \n...    ...                       ...                   ...               ...   \n8699  8700               QA engineer                   NaN                 1   \n8700  8701                 Marketing                   NaN               0.5   \n8701  8702  Junior Software Engineer            Ruby/Rails                 1   \n8702  8703                 Team lead                   NaN                 6   \n8703  8704  Senior Software Engineer                  Java                 7   \n\n     Опыт.работы.на.текущем.месте  Зарплата.в.месяц  \\\n0                             0.5               400   \n1                меньше 3 месяцев               430   \n2                               1              2500   \n3                               4              2000   \n4                             0.5              4500   \n...                           ...               ...   \n8699             меньше 3 месяцев               700   \n8700                          0.5               400   \n8701                          0.5               800   \n8702                            4              2600   \n8703                            2              5000   \n\n      Изменение.зарплаты.за.12.месяцев    Город     Размер.компании  \\\n0                                    0  Харьков       до 10 человек   \n1                                  130  Харьков  свыше 1000 человек   \n2                                  800     Киев     до 1000 человек   \n3                                  400   Одесса      до 200 человек   \n4                                  500   Другой       до 10 человек   \n...                                ...      ...                 ...   \n8699                               700   Одесса       до 50 человек   \n8700                               120     Киев       до 50 человек   \n8701                               500    Львов       до 10 человек   \n8702                                 0    Днепр  свыше 1000 человек   \n8703                               800   Одесса     до 1000 человек   \n\n         Тип.компании      Пол  Возраст           Образование  Еще.студент  \\\n0      Аутсорсинговая  женский       20  Незаконченное высшее         True   \n1      Аутсорсинговая  женский       21  Незаконченное высшее         True   \n2      Аутсорсинговая  мужской       26                Высшее        False   \n3         Продуктовая  мужской       30               Среднее        False   \n4         Продуктовая  мужской       30    Техникум / Колледж        False   \n...               ...      ...      ...                   ...          ...   \n8699   Аутсорсинговая  мужской       23                Высшее        False   \n8700      Продуктовая  женский       22                Высшее        False   \n8701  Аутстаффинговая  мужской       30  Незаконченное высшее        False   \n8702   Аутсорсинговая  мужской       34                Высшее        False   \n8703      Продуктовая  мужской       28                Высшее        False   \n\n     Уровень.английского      Дата.заполнения  \\\n0          ниже среднего  12/06/2017 12:38:08   \n1          выше среднего  12/06/2017 12:42:51   \n2                средний  12/06/2017 13:02:47   \n3          ниже среднего  12/06/2017 13:03:01   \n4                средний  12/06/2017 13:03:47   \n...                  ...                  ...   \n8699             средний  12/07/2017 15:45:24   \n8700       ниже среднего  12/07/2017 17:00:06   \n8701       выше среднего  12/07/2017 17:32:26   \n8702         продвинутый  12/07/2017 18:14:59   \n8703       выше среднего  12/07/2017 21:28:57   \n\n                                             User.Agent   exp  \\\n0     Mozilla/5.0 (Windows NT 10.0; Win64; x64) Appl...   0.5   \n1     Mozilla/5.0 (iPad; CPU OS 10_2_1 like Mac OS X...   0.0   \n2     Mozilla/5.0 (Windows NT 10.0; Win64; x64) Appl...   4.0   \n3     Mozilla/5.0 (Windows NT 6.1; Win64; x64) Apple...   5.0   \n4     Mozilla/5.0 (iPhone; CPU iPhone OS 10_3_2 like...  10.0   \n...                                                 ...   ...   \n8699  Mozilla/5.0 (X11; Ubuntu; Linux x86_64; rv:54....   1.0   \n8700  Mozilla/5.0 (Windows NT 10.0; Win64; x64) Appl...   0.5   \n8701  Mozilla/5.0 (X11; Linux x86_64) AppleWebKit/53...   1.0   \n8702  Mozilla/5.0 (Windows NT 6.1) AppleWebKit/537.3...   6.0   \n8703  Mozilla/5.0 (iPad; CPU OS 10_3_2 like Mac OS X...   7.0   \n\n      current_job_exp  salary  \n0                 0.5     400  \n1                 0.0     430  \n2                 1.0    2500  \n3                 4.0    2000  \n4                 0.5    4500  \n...               ...     ...  \n8699              0.0     700  \n8700              0.5     400  \n8701              0.5     800  \n8702              4.0    2600  \n8703              2.0    5000  \n\n[8704 rows x 20 columns]",
      "text/html": "<div>\n<style scoped>\n    .dataframe tbody tr th:only-of-type {\n        vertical-align: middle;\n    }\n\n    .dataframe tbody tr th {\n        vertical-align: top;\n    }\n\n    .dataframe thead th {\n        text-align: right;\n    }\n</style>\n<table border=\"1\" class=\"dataframe\">\n  <thead>\n    <tr style=\"text-align: right;\">\n      <th></th>\n      <th>N</th>\n      <th>Должность</th>\n      <th>Язык.программирования</th>\n      <th>Общий.опыт.работы</th>\n      <th>Опыт.работы.на.текущем.месте</th>\n      <th>Зарплата.в.месяц</th>\n      <th>Изменение.зарплаты.за.12.месяцев</th>\n      <th>Город</th>\n      <th>Размер.компании</th>\n      <th>Тип.компании</th>\n      <th>Пол</th>\n      <th>Возраст</th>\n      <th>Образование</th>\n      <th>Еще.студент</th>\n      <th>Уровень.английского</th>\n      <th>Дата.заполнения</th>\n      <th>User.Agent</th>\n      <th>exp</th>\n      <th>current_job_exp</th>\n      <th>salary</th>\n    </tr>\n  </thead>\n  <tbody>\n    <tr>\n      <th>0</th>\n      <td>1</td>\n      <td>Junior QA engineer</td>\n      <td>NaN</td>\n      <td>0.5</td>\n      <td>0.5</td>\n      <td>400</td>\n      <td>0</td>\n      <td>Харьков</td>\n      <td>до 10 человек</td>\n      <td>Аутсорсинговая</td>\n      <td>женский</td>\n      <td>20</td>\n      <td>Незаконченное высшее</td>\n      <td>True</td>\n      <td>ниже среднего</td>\n      <td>12/06/2017 12:38:08</td>\n      <td>Mozilla/5.0 (Windows NT 10.0; Win64; x64) Appl...</td>\n      <td>0.5</td>\n      <td>0.5</td>\n      <td>400</td>\n    </tr>\n    <tr>\n      <th>1</th>\n      <td>2</td>\n      <td>Junior QA engineer</td>\n      <td>NaN</td>\n      <td>меньше 3 месяцев</td>\n      <td>меньше 3 месяцев</td>\n      <td>430</td>\n      <td>130</td>\n      <td>Харьков</td>\n      <td>свыше 1000 человек</td>\n      <td>Аутсорсинговая</td>\n      <td>женский</td>\n      <td>21</td>\n      <td>Незаконченное высшее</td>\n      <td>True</td>\n      <td>выше среднего</td>\n      <td>12/06/2017 12:42:51</td>\n      <td>Mozilla/5.0 (iPad; CPU OS 10_2_1 like Mac OS X...</td>\n      <td>0.0</td>\n      <td>0.0</td>\n      <td>430</td>\n    </tr>\n    <tr>\n      <th>2</th>\n      <td>3</td>\n      <td>Software Engineer</td>\n      <td>C#/.NET</td>\n      <td>4</td>\n      <td>1</td>\n      <td>2500</td>\n      <td>800</td>\n      <td>Киев</td>\n      <td>до 1000 человек</td>\n      <td>Аутсорсинговая</td>\n      <td>мужской</td>\n      <td>26</td>\n      <td>Высшее</td>\n      <td>False</td>\n      <td>средний</td>\n      <td>12/06/2017 13:02:47</td>\n      <td>Mozilla/5.0 (Windows NT 10.0; Win64; x64) Appl...</td>\n      <td>4.0</td>\n      <td>1.0</td>\n      <td>2500</td>\n    </tr>\n    <tr>\n      <th>3</th>\n      <td>4</td>\n      <td>Software Engineer</td>\n      <td>JavaScript</td>\n      <td>5</td>\n      <td>4</td>\n      <td>2000</td>\n      <td>400</td>\n      <td>Одесса</td>\n      <td>до 200 человек</td>\n      <td>Продуктовая</td>\n      <td>мужской</td>\n      <td>30</td>\n      <td>Среднее</td>\n      <td>False</td>\n      <td>ниже среднего</td>\n      <td>12/06/2017 13:03:01</td>\n      <td>Mozilla/5.0 (Windows NT 6.1; Win64; x64) Apple...</td>\n      <td>5.0</td>\n      <td>4.0</td>\n      <td>2000</td>\n    </tr>\n    <tr>\n      <th>4</th>\n      <td>5</td>\n      <td>Senior Software Engineer</td>\n      <td>JavaScript</td>\n      <td>10 и более лет</td>\n      <td>0.5</td>\n      <td>4500</td>\n      <td>500</td>\n      <td>Другой</td>\n      <td>до 10 человек</td>\n      <td>Продуктовая</td>\n      <td>мужской</td>\n      <td>30</td>\n      <td>Техникум / Колледж</td>\n      <td>False</td>\n      <td>средний</td>\n      <td>12/06/2017 13:03:47</td>\n      <td>Mozilla/5.0 (iPhone; CPU iPhone OS 10_3_2 like...</td>\n      <td>10.0</td>\n      <td>0.5</td>\n      <td>4500</td>\n    </tr>\n    <tr>\n      <th>...</th>\n      <td>...</td>\n      <td>...</td>\n      <td>...</td>\n      <td>...</td>\n      <td>...</td>\n      <td>...</td>\n      <td>...</td>\n      <td>...</td>\n      <td>...</td>\n      <td>...</td>\n      <td>...</td>\n      <td>...</td>\n      <td>...</td>\n      <td>...</td>\n      <td>...</td>\n      <td>...</td>\n      <td>...</td>\n      <td>...</td>\n      <td>...</td>\n      <td>...</td>\n    </tr>\n    <tr>\n      <th>8699</th>\n      <td>8700</td>\n      <td>QA engineer</td>\n      <td>NaN</td>\n      <td>1</td>\n      <td>меньше 3 месяцев</td>\n      <td>700</td>\n      <td>700</td>\n      <td>Одесса</td>\n      <td>до 50 человек</td>\n      <td>Аутсорсинговая</td>\n      <td>мужской</td>\n      <td>23</td>\n      <td>Высшее</td>\n      <td>False</td>\n      <td>средний</td>\n      <td>12/07/2017 15:45:24</td>\n      <td>Mozilla/5.0 (X11; Ubuntu; Linux x86_64; rv:54....</td>\n      <td>1.0</td>\n      <td>0.0</td>\n      <td>700</td>\n    </tr>\n    <tr>\n      <th>8700</th>\n      <td>8701</td>\n      <td>Marketing</td>\n      <td>NaN</td>\n      <td>0.5</td>\n      <td>0.5</td>\n      <td>400</td>\n      <td>120</td>\n      <td>Киев</td>\n      <td>до 50 человек</td>\n      <td>Продуктовая</td>\n      <td>женский</td>\n      <td>22</td>\n      <td>Высшее</td>\n      <td>False</td>\n      <td>ниже среднего</td>\n      <td>12/07/2017 17:00:06</td>\n      <td>Mozilla/5.0 (Windows NT 10.0; Win64; x64) Appl...</td>\n      <td>0.5</td>\n      <td>0.5</td>\n      <td>400</td>\n    </tr>\n    <tr>\n      <th>8701</th>\n      <td>8702</td>\n      <td>Junior Software Engineer</td>\n      <td>Ruby/Rails</td>\n      <td>1</td>\n      <td>0.5</td>\n      <td>800</td>\n      <td>500</td>\n      <td>Львов</td>\n      <td>до 10 человек</td>\n      <td>Аутстаффинговая</td>\n      <td>мужской</td>\n      <td>30</td>\n      <td>Незаконченное высшее</td>\n      <td>False</td>\n      <td>выше среднего</td>\n      <td>12/07/2017 17:32:26</td>\n      <td>Mozilla/5.0 (X11; Linux x86_64) AppleWebKit/53...</td>\n      <td>1.0</td>\n      <td>0.5</td>\n      <td>800</td>\n    </tr>\n    <tr>\n      <th>8702</th>\n      <td>8703</td>\n      <td>Team lead</td>\n      <td>NaN</td>\n      <td>6</td>\n      <td>4</td>\n      <td>2600</td>\n      <td>0</td>\n      <td>Днепр</td>\n      <td>свыше 1000 человек</td>\n      <td>Аутсорсинговая</td>\n      <td>мужской</td>\n      <td>34</td>\n      <td>Высшее</td>\n      <td>False</td>\n      <td>продвинутый</td>\n      <td>12/07/2017 18:14:59</td>\n      <td>Mozilla/5.0 (Windows NT 6.1) AppleWebKit/537.3...</td>\n      <td>6.0</td>\n      <td>4.0</td>\n      <td>2600</td>\n    </tr>\n    <tr>\n      <th>8703</th>\n      <td>8704</td>\n      <td>Senior Software Engineer</td>\n      <td>Java</td>\n      <td>7</td>\n      <td>2</td>\n      <td>5000</td>\n      <td>800</td>\n      <td>Одесса</td>\n      <td>до 1000 человек</td>\n      <td>Продуктовая</td>\n      <td>мужской</td>\n      <td>28</td>\n      <td>Высшее</td>\n      <td>False</td>\n      <td>выше среднего</td>\n      <td>12/07/2017 21:28:57</td>\n      <td>Mozilla/5.0 (iPad; CPU OS 10_3_2 like Mac OS X...</td>\n      <td>7.0</td>\n      <td>2.0</td>\n      <td>5000</td>\n    </tr>\n  </tbody>\n</table>\n<p>8704 rows × 20 columns</p>\n</div>"
     },
     "execution_count": 33,
     "metadata": {},
     "output_type": "execute_result"
    }
   ],
   "source": [
    "#Видаліть усі стовпці з пропусками, крім стовпця \"Мова програмування\"\n",
    "df1 = df\n",
    "for i in df.columns:\n",
    "    if df[i].isnull().sum() and i != \"Язык.программирования\":\n",
    "        df1 = df1.drop([i], axis=1)\n",
    "df1"
   ]
  },
  {
   "cell_type": "code",
   "execution_count": 23,
   "metadata": {
    "colab": {
     "base_uri": "https://localhost:8080/"
    },
    "executionInfo": {
     "elapsed": 10,
     "status": "ok",
     "timestamp": 1699885541136,
     "user": {
      "displayName": "Анастасія Рибакова",
      "userId": "01514582576634099270"
     },
     "user_tz": -120
    },
    "id": "KOHm_FC8EoYI",
    "outputId": "3a62d173-de1d-4800-efdc-1bbeed21965c",
    "ExecuteTime": {
     "end_time": "2023-11-13T20:18:31.010910Z",
     "start_time": "2023-11-13T20:18:30.961244Z"
    }
   },
   "outputs": [
    {
     "name": "stdout",
     "output_type": "stream",
     "text": [
      "\n",
      "Частка пропусків після видалення:\n"
     ]
    },
    {
     "data": {
      "text/plain": "N                                    0.000000\nДолжность                            0.000000\nЯзык.программирования               44.232537\nОбщий.опыт.работы                    0.000000\nОпыт.работы.на.текущем.месте         0.000000\nЗарплата.в.месяц                     0.000000\nИзменение.зарплаты.за.12.месяцев     0.000000\nГород                                0.000000\nРазмер.компании                      0.000000\nТип.компании                         0.000000\nПол                                  0.000000\nВозраст                              0.000000\nОбразование                          0.000000\nЕще.студент                          0.000000\nУровень.английского                  0.000000\nДата.заполнения                      0.000000\nUser.Agent                           0.000000\nexp                                  0.000000\ncurrent_job_exp                      0.000000\nsalary                               0.000000\ndtype: float64"
     },
     "execution_count": 23,
     "metadata": {},
     "output_type": "execute_result"
    }
   ],
   "source": [
    "#Знову порахуйте, яка частка пропусків міститься в кожній колонці і переконайтеся, що залишився тільки стовпець \"Мова.програмування\"\n",
    "print(\"\\nЧастка пропусків після видалення:\")\n",
    "df_update.isnull().sum() / len(df) * 100"
   ]
  },
  {
   "cell_type": "code",
   "execution_count": 24,
   "metadata": {
    "colab": {
     "base_uri": "https://localhost:8080/",
     "height": 99
    },
    "executionInfo": {
     "elapsed": 10,
     "status": "ok",
     "timestamp": 1699885577588,
     "user": {
      "displayName": "Анастасія Рибакова",
      "userId": "01514582576634099270"
     },
     "user_tz": -120
    },
    "id": "pOCaS6C8EuE_",
    "outputId": "4f7b5c0e-7cc2-406c-b1eb-47e91b8fa694",
    "ExecuteTime": {
     "end_time": "2023-11-13T20:18:31.033759Z",
     "start_time": "2023-11-13T20:18:30.968446Z"
    }
   },
   "outputs": [
    {
     "data": {
      "text/plain": "Empty DataFrame\nColumns: [N, Должность, Язык.программирования, Специализация, Общий.опыт.работы, Опыт.работы.на.текущем.месте, Зарплата.в.месяц, Изменение.зарплаты.за.12.месяцев, Город, Размер.компании, Тип.компании, Пол, Возраст, Образование, Университет, Еще.студент, Уровень.английского, Предметная.область, Дата.заполнения, User.Agent, exp, current_job_exp, salary, Валюта, cls]\nIndex: []\n\n[0 rows x 25 columns]",
      "text/html": "<div>\n<style scoped>\n    .dataframe tbody tr th:only-of-type {\n        vertical-align: middle;\n    }\n\n    .dataframe tbody tr th {\n        vertical-align: top;\n    }\n\n    .dataframe thead th {\n        text-align: right;\n    }\n</style>\n<table border=\"1\" class=\"dataframe\">\n  <thead>\n    <tr style=\"text-align: right;\">\n      <th></th>\n      <th>N</th>\n      <th>Должность</th>\n      <th>Язык.программирования</th>\n      <th>Специализация</th>\n      <th>Общий.опыт.работы</th>\n      <th>Опыт.работы.на.текущем.месте</th>\n      <th>Зарплата.в.месяц</th>\n      <th>Изменение.зарплаты.за.12.месяцев</th>\n      <th>Город</th>\n      <th>Размер.компании</th>\n      <th>...</th>\n      <th>Еще.студент</th>\n      <th>Уровень.английского</th>\n      <th>Предметная.область</th>\n      <th>Дата.заполнения</th>\n      <th>User.Agent</th>\n      <th>exp</th>\n      <th>current_job_exp</th>\n      <th>salary</th>\n      <th>Валюта</th>\n      <th>cls</th>\n    </tr>\n  </thead>\n  <tbody>\n  </tbody>\n</table>\n<p>0 rows × 25 columns</p>\n</div>"
     },
     "execution_count": 24,
     "metadata": {},
     "output_type": "execute_result"
    }
   ],
   "source": [
    "#Видаліть усі рядки у вихідній таблиці за допомогою методу dropna\n",
    "df = df.dropna()\n",
    "df"
   ]
  },
  {
   "cell_type": "code",
   "execution_count": 25,
   "metadata": {
    "colab": {
     "base_uri": "https://localhost:8080/"
    },
    "executionInfo": {
     "elapsed": 5,
     "status": "ok",
     "timestamp": 1699885599642,
     "user": {
      "displayName": "Анастасія Рибакова",
      "userId": "01514582576634099270"
     },
     "user_tz": -120
    },
    "id": "nawGX2JcE29e",
    "outputId": "5cfee9ba-6c19-4dbc-926f-d4b9fc91f6e7",
    "ExecuteTime": {
     "end_time": "2023-11-13T20:18:31.034480Z",
     "start_time": "2023-11-13T20:18:30.973495Z"
    }
   },
   "outputs": [
    {
     "name": "stdout",
     "output_type": "stream",
     "text": [
      "\n",
      "Розмір таблиці після видалення рядків:\n"
     ]
    },
    {
     "data": {
      "text/plain": "(0, 25)"
     },
     "execution_count": 25,
     "metadata": {},
     "output_type": "execute_result"
    }
   ],
   "source": [
    "#Визначте новий розмір таблиці за допомогою методу shape\n",
    "print(\"\\nРозмір таблиці після видалення рядків:\")\n",
    "df.shape"
   ]
  },
  {
   "cell_type": "code",
   "execution_count": 26,
   "metadata": {
    "colab": {
     "base_uri": "https://localhost:8080/",
     "height": 843
    },
    "executionInfo": {
     "elapsed": 2062,
     "status": "ok",
     "timestamp": 1699885623379,
     "user": {
      "displayName": "Анастасія Рибакова",
      "userId": "01514582576634099270"
     },
     "user_tz": -120
    },
    "id": "BaQsV8ZYE8b-",
    "outputId": "1f739c60-fc1f-4768-e6b9-b2267b2e6c6f",
    "ExecuteTime": {
     "end_time": "2023-11-13T20:18:32.231042Z",
     "start_time": "2023-11-13T20:18:30.976790Z"
    }
   },
   "outputs": [
    {
     "data": {
      "text/plain": "         N                 Должность Язык.программирования Специализация  \\\n12      13         Software Engineer                Python           NaN   \n68      69         Software Engineer                Python           NaN   \n87      88  Junior Software Engineer                Python           NaN   \n114    115  Junior Software Engineer                Python           NaN   \n143    144  Junior Software Engineer                Python           NaN   \n...    ...                       ...                   ...           ...   \n8546  8547         Software Engineer                Python           NaN   \n8625  8626         Software Engineer                Python           NaN   \n8635  8636  Senior Software Engineer                Python           NaN   \n8673  8674  Junior Software Engineer                Python           NaN   \n8695  8696         Software Engineer                Python           NaN   \n\n     Общий.опыт.работы Опыт.работы.на.текущем.месте  Зарплата.в.месяц  \\\n12                   1             меньше 3 месяцев               800   \n68                 1.5                          0.5               900   \n87                 0.5                          0.5               600   \n114                1.5                          0.5               685   \n143                  1                            1               750   \n...                ...                          ...               ...   \n8546                 5                            1              2000   \n8625                 4                            1              1750   \n8635    10 и более лет             меньше 3 месяцев              4000   \n8673               0.5                          0.5               350   \n8695                 1                          0.5              1500   \n\n      Изменение.зарплаты.за.12.месяцев      Город     Размер.компании  ...  \\\n12                                 200       Киев       до 50 человек  ...   \n68                                 900       Киев       до 10 человек  ...   \n87                                   0       Киев       до 10 человек  ...   \n114                                250       Киев     до 1000 человек  ...   \n143                                250       Киев       до 10 человек  ...   \n...                                ...        ...                 ...  ...   \n8546                               800  Запорожье       до 50 человек  ...   \n8625                                 0       Киев  свыше 1000 человек  ...   \n8635                              1300   Удаленно       до 10 человек  ...   \n8673                                50       Киев       до 50 человек  ...   \n8695                              1000       Киев       до 10 человек  ...   \n\n     Еще.студент Уровень.английского         Предметная.область  \\\n12         False       ниже среднего      Веб-разработка,Другое   \n68          True       выше среднего             Веб-разработка   \n87          True       выше среднего   Веб-разработка,eCommerce   \n114        False             средний                     Другое   \n143         True       выше среднего             Веб-разработка   \n...          ...                 ...                        ...   \n8546       False             средний             Веб-разработка   \n8625       False             средний             Веб-разработка   \n8635       False       выше среднего             Веб-разработка   \n8673       False             средний             Веб-разработка   \n8695       False             средний  Финансы и банки,eCommerce   \n\n          Дата.заполнения                                         User.Agent  \\\n12    12/06/2017 13:05:54  Mozilla/5.0 (Windows NT 6.1; Win64; x64) Apple...   \n68    12/06/2017 13:11:17  Mozilla/5.0 (Windows NT 10.0; Win64; x64) Appl...   \n87    12/06/2017 13:12:25  Mozilla/5.0 (X11; Linux x86_64) AppleWebKit/53...   \n114   12/06/2017 13:14:52  Mozilla/5.0 (X11; Linux x86_64) AppleWebKit/53...   \n143   12/06/2017 13:19:10  Mozilla/5.0 (X11; Linux x86_64) AppleWebKit/53...   \n...                   ...                                                ...   \n8546  10/07/2017 14:11:26  Mozilla/5.0 (Macintosh; Intel Mac OS X 10_12_5...   \n8625  11/07/2017 16:15:40  Mozilla/5.0 (X11; Ubuntu; Linux x86_64; rv:54....   \n8635  11/07/2017 17:51:36  Mozilla/5.0 (X11; Linux x86_64) AppleWebKit/53...   \n8673  12/07/2017 09:37:16  Mozilla/5.0 (X11; Ubuntu; Linux x86_64; rv:54....   \n8695  12/07/2017 14:39:21  Mozilla/5.0 (X11; Linux x86_64) AppleWebKit/53...   \n\n       exp current_job_exp salary Валюта  cls  \n12     1.0             0.0    800    NaN  DEV  \n68     1.5             0.5    900    NaN  DEV  \n87     0.5             0.5    600    NaN  DEV  \n114    1.5             0.5    685    NaN  DEV  \n143    1.0             1.0    750    NaN  DEV  \n...    ...             ...    ...    ...  ...  \n8546   5.0             1.0   2000    NaN  DEV  \n8625   4.0             1.0   1750    NaN  DEV  \n8635  10.0             0.0   4000    NaN  DEV  \n8673   0.5             0.5    350    NaN  DEV  \n8695   1.0             0.5   1500    NaN  DEV  \n\n[207 rows x 25 columns]",
      "text/html": "<div>\n<style scoped>\n    .dataframe tbody tr th:only-of-type {\n        vertical-align: middle;\n    }\n\n    .dataframe tbody tr th {\n        vertical-align: top;\n    }\n\n    .dataframe thead th {\n        text-align: right;\n    }\n</style>\n<table border=\"1\" class=\"dataframe\">\n  <thead>\n    <tr style=\"text-align: right;\">\n      <th></th>\n      <th>N</th>\n      <th>Должность</th>\n      <th>Язык.программирования</th>\n      <th>Специализация</th>\n      <th>Общий.опыт.работы</th>\n      <th>Опыт.работы.на.текущем.месте</th>\n      <th>Зарплата.в.месяц</th>\n      <th>Изменение.зарплаты.за.12.месяцев</th>\n      <th>Город</th>\n      <th>Размер.компании</th>\n      <th>...</th>\n      <th>Еще.студент</th>\n      <th>Уровень.английского</th>\n      <th>Предметная.область</th>\n      <th>Дата.заполнения</th>\n      <th>User.Agent</th>\n      <th>exp</th>\n      <th>current_job_exp</th>\n      <th>salary</th>\n      <th>Валюта</th>\n      <th>cls</th>\n    </tr>\n  </thead>\n  <tbody>\n    <tr>\n      <th>12</th>\n      <td>13</td>\n      <td>Software Engineer</td>\n      <td>Python</td>\n      <td>NaN</td>\n      <td>1</td>\n      <td>меньше 3 месяцев</td>\n      <td>800</td>\n      <td>200</td>\n      <td>Киев</td>\n      <td>до 50 человек</td>\n      <td>...</td>\n      <td>False</td>\n      <td>ниже среднего</td>\n      <td>Веб-разработка,Другое</td>\n      <td>12/06/2017 13:05:54</td>\n      <td>Mozilla/5.0 (Windows NT 6.1; Win64; x64) Apple...</td>\n      <td>1.0</td>\n      <td>0.0</td>\n      <td>800</td>\n      <td>NaN</td>\n      <td>DEV</td>\n    </tr>\n    <tr>\n      <th>68</th>\n      <td>69</td>\n      <td>Software Engineer</td>\n      <td>Python</td>\n      <td>NaN</td>\n      <td>1.5</td>\n      <td>0.5</td>\n      <td>900</td>\n      <td>900</td>\n      <td>Киев</td>\n      <td>до 10 человек</td>\n      <td>...</td>\n      <td>True</td>\n      <td>выше среднего</td>\n      <td>Веб-разработка</td>\n      <td>12/06/2017 13:11:17</td>\n      <td>Mozilla/5.0 (Windows NT 10.0; Win64; x64) Appl...</td>\n      <td>1.5</td>\n      <td>0.5</td>\n      <td>900</td>\n      <td>NaN</td>\n      <td>DEV</td>\n    </tr>\n    <tr>\n      <th>87</th>\n      <td>88</td>\n      <td>Junior Software Engineer</td>\n      <td>Python</td>\n      <td>NaN</td>\n      <td>0.5</td>\n      <td>0.5</td>\n      <td>600</td>\n      <td>0</td>\n      <td>Киев</td>\n      <td>до 10 человек</td>\n      <td>...</td>\n      <td>True</td>\n      <td>выше среднего</td>\n      <td>Веб-разработка,eCommerce</td>\n      <td>12/06/2017 13:12:25</td>\n      <td>Mozilla/5.0 (X11; Linux x86_64) AppleWebKit/53...</td>\n      <td>0.5</td>\n      <td>0.5</td>\n      <td>600</td>\n      <td>NaN</td>\n      <td>DEV</td>\n    </tr>\n    <tr>\n      <th>114</th>\n      <td>115</td>\n      <td>Junior Software Engineer</td>\n      <td>Python</td>\n      <td>NaN</td>\n      <td>1.5</td>\n      <td>0.5</td>\n      <td>685</td>\n      <td>250</td>\n      <td>Киев</td>\n      <td>до 1000 человек</td>\n      <td>...</td>\n      <td>False</td>\n      <td>средний</td>\n      <td>Другое</td>\n      <td>12/06/2017 13:14:52</td>\n      <td>Mozilla/5.0 (X11; Linux x86_64) AppleWebKit/53...</td>\n      <td>1.5</td>\n      <td>0.5</td>\n      <td>685</td>\n      <td>NaN</td>\n      <td>DEV</td>\n    </tr>\n    <tr>\n      <th>143</th>\n      <td>144</td>\n      <td>Junior Software Engineer</td>\n      <td>Python</td>\n      <td>NaN</td>\n      <td>1</td>\n      <td>1</td>\n      <td>750</td>\n      <td>250</td>\n      <td>Киев</td>\n      <td>до 10 человек</td>\n      <td>...</td>\n      <td>True</td>\n      <td>выше среднего</td>\n      <td>Веб-разработка</td>\n      <td>12/06/2017 13:19:10</td>\n      <td>Mozilla/5.0 (X11; Linux x86_64) AppleWebKit/53...</td>\n      <td>1.0</td>\n      <td>1.0</td>\n      <td>750</td>\n      <td>NaN</td>\n      <td>DEV</td>\n    </tr>\n    <tr>\n      <th>...</th>\n      <td>...</td>\n      <td>...</td>\n      <td>...</td>\n      <td>...</td>\n      <td>...</td>\n      <td>...</td>\n      <td>...</td>\n      <td>...</td>\n      <td>...</td>\n      <td>...</td>\n      <td>...</td>\n      <td>...</td>\n      <td>...</td>\n      <td>...</td>\n      <td>...</td>\n      <td>...</td>\n      <td>...</td>\n      <td>...</td>\n      <td>...</td>\n      <td>...</td>\n      <td>...</td>\n    </tr>\n    <tr>\n      <th>8546</th>\n      <td>8547</td>\n      <td>Software Engineer</td>\n      <td>Python</td>\n      <td>NaN</td>\n      <td>5</td>\n      <td>1</td>\n      <td>2000</td>\n      <td>800</td>\n      <td>Запорожье</td>\n      <td>до 50 человек</td>\n      <td>...</td>\n      <td>False</td>\n      <td>средний</td>\n      <td>Веб-разработка</td>\n      <td>10/07/2017 14:11:26</td>\n      <td>Mozilla/5.0 (Macintosh; Intel Mac OS X 10_12_5...</td>\n      <td>5.0</td>\n      <td>1.0</td>\n      <td>2000</td>\n      <td>NaN</td>\n      <td>DEV</td>\n    </tr>\n    <tr>\n      <th>8625</th>\n      <td>8626</td>\n      <td>Software Engineer</td>\n      <td>Python</td>\n      <td>NaN</td>\n      <td>4</td>\n      <td>1</td>\n      <td>1750</td>\n      <td>0</td>\n      <td>Киев</td>\n      <td>свыше 1000 человек</td>\n      <td>...</td>\n      <td>False</td>\n      <td>средний</td>\n      <td>Веб-разработка</td>\n      <td>11/07/2017 16:15:40</td>\n      <td>Mozilla/5.0 (X11; Ubuntu; Linux x86_64; rv:54....</td>\n      <td>4.0</td>\n      <td>1.0</td>\n      <td>1750</td>\n      <td>NaN</td>\n      <td>DEV</td>\n    </tr>\n    <tr>\n      <th>8635</th>\n      <td>8636</td>\n      <td>Senior Software Engineer</td>\n      <td>Python</td>\n      <td>NaN</td>\n      <td>10 и более лет</td>\n      <td>меньше 3 месяцев</td>\n      <td>4000</td>\n      <td>1300</td>\n      <td>Удаленно</td>\n      <td>до 10 человек</td>\n      <td>...</td>\n      <td>False</td>\n      <td>выше среднего</td>\n      <td>Веб-разработка</td>\n      <td>11/07/2017 17:51:36</td>\n      <td>Mozilla/5.0 (X11; Linux x86_64) AppleWebKit/53...</td>\n      <td>10.0</td>\n      <td>0.0</td>\n      <td>4000</td>\n      <td>NaN</td>\n      <td>DEV</td>\n    </tr>\n    <tr>\n      <th>8673</th>\n      <td>8674</td>\n      <td>Junior Software Engineer</td>\n      <td>Python</td>\n      <td>NaN</td>\n      <td>0.5</td>\n      <td>0.5</td>\n      <td>350</td>\n      <td>50</td>\n      <td>Киев</td>\n      <td>до 50 человек</td>\n      <td>...</td>\n      <td>False</td>\n      <td>средний</td>\n      <td>Веб-разработка</td>\n      <td>12/07/2017 09:37:16</td>\n      <td>Mozilla/5.0 (X11; Ubuntu; Linux x86_64; rv:54....</td>\n      <td>0.5</td>\n      <td>0.5</td>\n      <td>350</td>\n      <td>NaN</td>\n      <td>DEV</td>\n    </tr>\n    <tr>\n      <th>8695</th>\n      <td>8696</td>\n      <td>Software Engineer</td>\n      <td>Python</td>\n      <td>NaN</td>\n      <td>1</td>\n      <td>0.5</td>\n      <td>1500</td>\n      <td>1000</td>\n      <td>Киев</td>\n      <td>до 10 человек</td>\n      <td>...</td>\n      <td>False</td>\n      <td>средний</td>\n      <td>Финансы и банки,eCommerce</td>\n      <td>12/07/2017 14:39:21</td>\n      <td>Mozilla/5.0 (X11; Linux x86_64) AppleWebKit/53...</td>\n      <td>1.0</td>\n      <td>0.5</td>\n      <td>1500</td>\n      <td>NaN</td>\n      <td>DEV</td>\n    </tr>\n  </tbody>\n</table>\n<p>207 rows × 25 columns</p>\n</div>"
     },
     "execution_count": 26,
     "metadata": {},
     "output_type": "execute_result"
    }
   ],
   "source": [
    "#Створіть нову таблицю python_data, в якій будуть тільки рядки зі спеціалістами, які вказали мову програмування Python\n",
    "file_path = \"https://drive.google.com/file/d/1JMYqXipZpz9Y5-vyxvLEO2Y1sRBxqu-U/view\"\n",
    "file_id = file_path.split(\"/\")[-2]\n",
    "download_link = f\"https://drive.google.com/uc?id={file_id}\"\n",
    "df = pd.read_csv(download_link)\n",
    "python_data = df[df['Язык.программирования'] == 'Python']\n",
    "python_data"
   ]
  },
  {
   "cell_type": "code",
   "execution_count": 27,
   "metadata": {
    "colab": {
     "base_uri": "https://localhost:8080/"
    },
    "executionInfo": {
     "elapsed": 2,
     "status": "ok",
     "timestamp": 1699885762025,
     "user": {
      "displayName": "Анастасія Рибакова",
      "userId": "01514582576634099270"
     },
     "user_tz": -120
    },
    "id": "6Spw1xcNFBrX",
    "outputId": "f201d039-b30d-4759-ff20-bd91210a8a15",
    "ExecuteTime": {
     "end_time": "2023-11-13T20:18:32.234443Z",
     "start_time": "2023-11-13T20:18:32.230937Z"
    }
   },
   "outputs": [
    {
     "name": "stdout",
     "output_type": "stream",
     "text": [
      "\n",
      "Розмір таблиці python_data:\n"
     ]
    },
    {
     "data": {
      "text/plain": "(207, 25)"
     },
     "execution_count": 27,
     "metadata": {},
     "output_type": "execute_result"
    }
   ],
   "source": [
    "#Визначте розмір таблиці python_data за допомогою методу shape\n",
    "print(\"\\nРозмір таблиці python_data:\")\n",
    "python_data.shape"
   ]
  },
  {
   "cell_type": "code",
   "execution_count": 28,
   "metadata": {
    "colab": {
     "base_uri": "https://localhost:8080/",
     "height": 1000
    },
    "executionInfo": {
     "elapsed": 6,
     "status": "ok",
     "timestamp": 1699885822985,
     "user": {
      "displayName": "Анастасія Рибакова",
      "userId": "01514582576634099270"
     },
     "user_tz": -120
    },
    "id": "_zpwXOJPFkH1",
    "outputId": "ea003b89-beb1-4bf4-db05-11b3280d3955",
    "ExecuteTime": {
     "end_time": "2023-11-13T20:18:32.242327Z",
     "start_time": "2023-11-13T20:18:32.235789Z"
    }
   },
   "outputs": [
    {
     "data": {
      "text/plain": "                                           Зарплата.в.месяц       \n                                                        min    max\nДолжность                                                         \nBusiness analyst                                        200   5000\nDBA                                                     380   6000\nData Scientist / Data Analyst                           150   8000\nDesigner                                                100   4000\nDevOps                                                  194  10000\nDirector of Engineering / Program Director             1500  34000\nERP / CRM                                               100   6000\nGame designer                                           150   6800\nHR                                                      100   7000\nHTML coder                                              154   3000\nJunior QA engineer                                       96   2000\nJunior Software Engineer                                 75   2600\nMarketing                                               100   4000\nProduct Manager                                         250   5000\nProject manager                                         190   8000\nQA Tech Lead                                            430   6000\nQA engineer                                             150   2900\nResearch Engineer                                       114   4000\nSales manager                                           120   2300\nScrum Master                                            370   4500\nSecurity Specialist                                     300   4000\nSenior Project Manager / Program Manager                200   9100\nSenior QA engineer                                      400   6000\nSenior Software Engineer                                350   9200\nSoftware Engineer                                       100   7000\nSupport                                                 138   3650\nSysadmin                                                 90   3000\nSystem Architect                                        400  10000\nTalent Researcher                                       100   1700\nTeam lead                                               300   7000\nTechnical Lead                                          500  18000\nTechnical writer                                        200   3000",
      "text/html": "<div>\n<style scoped>\n    .dataframe tbody tr th:only-of-type {\n        vertical-align: middle;\n    }\n\n    .dataframe tbody tr th {\n        vertical-align: top;\n    }\n\n    .dataframe thead tr th {\n        text-align: left;\n    }\n\n    .dataframe thead tr:last-of-type th {\n        text-align: right;\n    }\n</style>\n<table border=\"1\" class=\"dataframe\">\n  <thead>\n    <tr>\n      <th></th>\n      <th colspan=\"2\" halign=\"left\">Зарплата.в.месяц</th>\n    </tr>\n    <tr>\n      <th></th>\n      <th>min</th>\n      <th>max</th>\n    </tr>\n    <tr>\n      <th>Должность</th>\n      <th></th>\n      <th></th>\n    </tr>\n  </thead>\n  <tbody>\n    <tr>\n      <th>Business analyst</th>\n      <td>200</td>\n      <td>5000</td>\n    </tr>\n    <tr>\n      <th>DBA</th>\n      <td>380</td>\n      <td>6000</td>\n    </tr>\n    <tr>\n      <th>Data Scientist / Data Analyst</th>\n      <td>150</td>\n      <td>8000</td>\n    </tr>\n    <tr>\n      <th>Designer</th>\n      <td>100</td>\n      <td>4000</td>\n    </tr>\n    <tr>\n      <th>DevOps</th>\n      <td>194</td>\n      <td>10000</td>\n    </tr>\n    <tr>\n      <th>Director of Engineering / Program Director</th>\n      <td>1500</td>\n      <td>34000</td>\n    </tr>\n    <tr>\n      <th>ERP / CRM</th>\n      <td>100</td>\n      <td>6000</td>\n    </tr>\n    <tr>\n      <th>Game designer</th>\n      <td>150</td>\n      <td>6800</td>\n    </tr>\n    <tr>\n      <th>HR</th>\n      <td>100</td>\n      <td>7000</td>\n    </tr>\n    <tr>\n      <th>HTML coder</th>\n      <td>154</td>\n      <td>3000</td>\n    </tr>\n    <tr>\n      <th>Junior QA engineer</th>\n      <td>96</td>\n      <td>2000</td>\n    </tr>\n    <tr>\n      <th>Junior Software Engineer</th>\n      <td>75</td>\n      <td>2600</td>\n    </tr>\n    <tr>\n      <th>Marketing</th>\n      <td>100</td>\n      <td>4000</td>\n    </tr>\n    <tr>\n      <th>Product Manager</th>\n      <td>250</td>\n      <td>5000</td>\n    </tr>\n    <tr>\n      <th>Project manager</th>\n      <td>190</td>\n      <td>8000</td>\n    </tr>\n    <tr>\n      <th>QA Tech Lead</th>\n      <td>430</td>\n      <td>6000</td>\n    </tr>\n    <tr>\n      <th>QA engineer</th>\n      <td>150</td>\n      <td>2900</td>\n    </tr>\n    <tr>\n      <th>Research Engineer</th>\n      <td>114</td>\n      <td>4000</td>\n    </tr>\n    <tr>\n      <th>Sales manager</th>\n      <td>120</td>\n      <td>2300</td>\n    </tr>\n    <tr>\n      <th>Scrum Master</th>\n      <td>370</td>\n      <td>4500</td>\n    </tr>\n    <tr>\n      <th>Security Specialist</th>\n      <td>300</td>\n      <td>4000</td>\n    </tr>\n    <tr>\n      <th>Senior Project Manager / Program Manager</th>\n      <td>200</td>\n      <td>9100</td>\n    </tr>\n    <tr>\n      <th>Senior QA engineer</th>\n      <td>400</td>\n      <td>6000</td>\n    </tr>\n    <tr>\n      <th>Senior Software Engineer</th>\n      <td>350</td>\n      <td>9200</td>\n    </tr>\n    <tr>\n      <th>Software Engineer</th>\n      <td>100</td>\n      <td>7000</td>\n    </tr>\n    <tr>\n      <th>Support</th>\n      <td>138</td>\n      <td>3650</td>\n    </tr>\n    <tr>\n      <th>Sysadmin</th>\n      <td>90</td>\n      <td>3000</td>\n    </tr>\n    <tr>\n      <th>System Architect</th>\n      <td>400</td>\n      <td>10000</td>\n    </tr>\n    <tr>\n      <th>Talent Researcher</th>\n      <td>100</td>\n      <td>1700</td>\n    </tr>\n    <tr>\n      <th>Team lead</th>\n      <td>300</td>\n      <td>7000</td>\n    </tr>\n    <tr>\n      <th>Technical Lead</th>\n      <td>500</td>\n      <td>18000</td>\n    </tr>\n    <tr>\n      <th>Technical writer</th>\n      <td>200</td>\n      <td>3000</td>\n    </tr>\n  </tbody>\n</table>\n</div>"
     },
     "execution_count": 28,
     "metadata": {},
     "output_type": "execute_result"
    }
   ],
   "source": [
    "#Створіть новий DataFrame, де для згрупованих даних за стовпчиком \"Посада\", виконайте агрегацію даних за допомогою методу agg і знайдіть мінімальне та максимальне значення у стовпчику \"Зарплата.в.місяць\"\n",
    "grouped_data = df.groupby('Должность').agg({'Зарплата.в.месяц': ['min', 'max']})\n",
    "grouped_data"
   ]
  },
  {
   "cell_type": "code",
   "execution_count": 29,
   "metadata": {
    "colab": {
     "base_uri": "https://localhost:8080/",
     "height": 1000
    },
    "executionInfo": {
     "elapsed": 4,
     "status": "ok",
     "timestamp": 1699885846215,
     "user": {
      "displayName": "Анастасія Рибакова",
      "userId": "01514582576634099270"
     },
     "user_tz": -120
    },
    "id": "h-YnLTHHFy0J",
    "outputId": "a6788560-de96-4c15-d763-988367496a1f",
    "ExecuteTime": {
     "end_time": "2023-11-13T20:18:32.267496Z",
     "start_time": "2023-11-13T20:18:32.250181Z"
    }
   },
   "outputs": [
    {
     "data": {
      "text/plain": "                                           Зарплата.в.месяц             avg\n                                                        min    max         \nДолжность                                                                  \nBusiness analyst                                        200   5000   2600.0\nDBA                                                     380   6000   3190.0\nData Scientist / Data Analyst                           150   8000   4075.0\nDesigner                                                100   4000   2050.0\nDevOps                                                  194  10000   5097.0\nDirector of Engineering / Program Director             1500  34000  17750.0\nERP / CRM                                               100   6000   3050.0\nGame designer                                           150   6800   3475.0\nHR                                                      100   7000   3550.0\nHTML coder                                              154   3000   1577.0\nJunior QA engineer                                       96   2000   1048.0\nJunior Software Engineer                                 75   2600   1337.5\nMarketing                                               100   4000   2050.0\nProduct Manager                                         250   5000   2625.0\nProject manager                                         190   8000   4095.0\nQA Tech Lead                                            430   6000   3215.0\nQA engineer                                             150   2900   1525.0\nResearch Engineer                                       114   4000   2057.0\nSales manager                                           120   2300   1210.0\nScrum Master                                            370   4500   2435.0\nSecurity Specialist                                     300   4000   2150.0\nSenior Project Manager / Program Manager                200   9100   4650.0\nSenior QA engineer                                      400   6000   3200.0\nSenior Software Engineer                                350   9200   4775.0\nSoftware Engineer                                       100   7000   3550.0\nSupport                                                 138   3650   1894.0\nSysadmin                                                 90   3000   1545.0\nSystem Architect                                        400  10000   5200.0\nTalent Researcher                                       100   1700    900.0\nTeam lead                                               300   7000   3650.0\nTechnical Lead                                          500  18000   9250.0\nTechnical writer                                        200   3000   1600.0",
      "text/html": "<div>\n<style scoped>\n    .dataframe tbody tr th:only-of-type {\n        vertical-align: middle;\n    }\n\n    .dataframe tbody tr th {\n        vertical-align: top;\n    }\n\n    .dataframe thead tr th {\n        text-align: left;\n    }\n\n    .dataframe thead tr:last-of-type th {\n        text-align: right;\n    }\n</style>\n<table border=\"1\" class=\"dataframe\">\n  <thead>\n    <tr>\n      <th></th>\n      <th colspan=\"2\" halign=\"left\">Зарплата.в.месяц</th>\n      <th>avg</th>\n    </tr>\n    <tr>\n      <th></th>\n      <th>min</th>\n      <th>max</th>\n      <th></th>\n    </tr>\n    <tr>\n      <th>Должность</th>\n      <th></th>\n      <th></th>\n      <th></th>\n    </tr>\n  </thead>\n  <tbody>\n    <tr>\n      <th>Business analyst</th>\n      <td>200</td>\n      <td>5000</td>\n      <td>2600.0</td>\n    </tr>\n    <tr>\n      <th>DBA</th>\n      <td>380</td>\n      <td>6000</td>\n      <td>3190.0</td>\n    </tr>\n    <tr>\n      <th>Data Scientist / Data Analyst</th>\n      <td>150</td>\n      <td>8000</td>\n      <td>4075.0</td>\n    </tr>\n    <tr>\n      <th>Designer</th>\n      <td>100</td>\n      <td>4000</td>\n      <td>2050.0</td>\n    </tr>\n    <tr>\n      <th>DevOps</th>\n      <td>194</td>\n      <td>10000</td>\n      <td>5097.0</td>\n    </tr>\n    <tr>\n      <th>Director of Engineering / Program Director</th>\n      <td>1500</td>\n      <td>34000</td>\n      <td>17750.0</td>\n    </tr>\n    <tr>\n      <th>ERP / CRM</th>\n      <td>100</td>\n      <td>6000</td>\n      <td>3050.0</td>\n    </tr>\n    <tr>\n      <th>Game designer</th>\n      <td>150</td>\n      <td>6800</td>\n      <td>3475.0</td>\n    </tr>\n    <tr>\n      <th>HR</th>\n      <td>100</td>\n      <td>7000</td>\n      <td>3550.0</td>\n    </tr>\n    <tr>\n      <th>HTML coder</th>\n      <td>154</td>\n      <td>3000</td>\n      <td>1577.0</td>\n    </tr>\n    <tr>\n      <th>Junior QA engineer</th>\n      <td>96</td>\n      <td>2000</td>\n      <td>1048.0</td>\n    </tr>\n    <tr>\n      <th>Junior Software Engineer</th>\n      <td>75</td>\n      <td>2600</td>\n      <td>1337.5</td>\n    </tr>\n    <tr>\n      <th>Marketing</th>\n      <td>100</td>\n      <td>4000</td>\n      <td>2050.0</td>\n    </tr>\n    <tr>\n      <th>Product Manager</th>\n      <td>250</td>\n      <td>5000</td>\n      <td>2625.0</td>\n    </tr>\n    <tr>\n      <th>Project manager</th>\n      <td>190</td>\n      <td>8000</td>\n      <td>4095.0</td>\n    </tr>\n    <tr>\n      <th>QA Tech Lead</th>\n      <td>430</td>\n      <td>6000</td>\n      <td>3215.0</td>\n    </tr>\n    <tr>\n      <th>QA engineer</th>\n      <td>150</td>\n      <td>2900</td>\n      <td>1525.0</td>\n    </tr>\n    <tr>\n      <th>Research Engineer</th>\n      <td>114</td>\n      <td>4000</td>\n      <td>2057.0</td>\n    </tr>\n    <tr>\n      <th>Sales manager</th>\n      <td>120</td>\n      <td>2300</td>\n      <td>1210.0</td>\n    </tr>\n    <tr>\n      <th>Scrum Master</th>\n      <td>370</td>\n      <td>4500</td>\n      <td>2435.0</td>\n    </tr>\n    <tr>\n      <th>Security Specialist</th>\n      <td>300</td>\n      <td>4000</td>\n      <td>2150.0</td>\n    </tr>\n    <tr>\n      <th>Senior Project Manager / Program Manager</th>\n      <td>200</td>\n      <td>9100</td>\n      <td>4650.0</td>\n    </tr>\n    <tr>\n      <th>Senior QA engineer</th>\n      <td>400</td>\n      <td>6000</td>\n      <td>3200.0</td>\n    </tr>\n    <tr>\n      <th>Senior Software Engineer</th>\n      <td>350</td>\n      <td>9200</td>\n      <td>4775.0</td>\n    </tr>\n    <tr>\n      <th>Software Engineer</th>\n      <td>100</td>\n      <td>7000</td>\n      <td>3550.0</td>\n    </tr>\n    <tr>\n      <th>Support</th>\n      <td>138</td>\n      <td>3650</td>\n      <td>1894.0</td>\n    </tr>\n    <tr>\n      <th>Sysadmin</th>\n      <td>90</td>\n      <td>3000</td>\n      <td>1545.0</td>\n    </tr>\n    <tr>\n      <th>System Architect</th>\n      <td>400</td>\n      <td>10000</td>\n      <td>5200.0</td>\n    </tr>\n    <tr>\n      <th>Talent Researcher</th>\n      <td>100</td>\n      <td>1700</td>\n      <td>900.0</td>\n    </tr>\n    <tr>\n      <th>Team lead</th>\n      <td>300</td>\n      <td>7000</td>\n      <td>3650.0</td>\n    </tr>\n    <tr>\n      <th>Technical Lead</th>\n      <td>500</td>\n      <td>18000</td>\n      <td>9250.0</td>\n    </tr>\n    <tr>\n      <th>Technical writer</th>\n      <td>200</td>\n      <td>3000</td>\n      <td>1600.0</td>\n    </tr>\n  </tbody>\n</table>\n</div>"
     },
     "execution_count": 29,
     "metadata": {},
     "output_type": "execute_result"
    }
   ],
   "source": [
    "#Створіть функцію fill_avg_salary, яка повертатиме середнє значення заробітної плати на місяць. Використовуйте її для методу apply та створіть новий стовпчик \"avg\"\n",
    "def fill_avg_salary(salary_values):\n",
    "    return salary_values.mean()\n",
    "\n",
    "grouped_data['avg'] = grouped_data.apply(lambda x: fill_avg_salary(x['Зарплата.в.месяц']), axis=1)\n",
    "grouped_data"
   ]
  },
  {
   "cell_type": "code",
   "execution_count": 30,
   "metadata": {
    "colab": {
     "base_uri": "https://localhost:8080/"
    },
    "executionInfo": {
     "elapsed": 3,
     "status": "ok",
     "timestamp": 1699885876025,
     "user": {
      "displayName": "Анастасія Рибакова",
      "userId": "01514582576634099270"
     },
     "user_tz": -120
    },
    "id": "FSC2enWwF4jF",
    "outputId": "ce269d6c-7956-497d-a096-9c73be588546",
    "ExecuteTime": {
     "end_time": "2023-11-13T20:18:32.301095Z",
     "start_time": "2023-11-13T20:18:32.257201Z"
    }
   },
   "outputs": [
    {
     "name": "stdout",
     "output_type": "stream",
     "text": [
      "\n",
      "Описова статистика для стовпчика 'avg':\n"
     ]
    },
    {
     "data": {
      "text/plain": "count       32.000000\nmean      3449.234375\nstd       3093.885174\nmin        900.000000\n25%       1820.500000\n50%       2837.500000\n75%       3756.250000\nmax      17750.000000\nName: avg, dtype: float64"
     },
     "execution_count": 30,
     "metadata": {},
     "output_type": "execute_result"
    }
   ],
   "source": [
    "#Створіть описову статистику за допомогою методу describe для нового стовпчика.\n",
    "print(\"\\nОписова статистика для стовпчика 'avg':\")\n",
    "grouped_data['avg'].describe()"
   ]
  },
  {
   "cell_type": "code",
   "execution_count": 31,
   "metadata": {
    "colab": {
     "base_uri": "https://localhost:8080/",
     "height": 791
    },
    "executionInfo": {
     "elapsed": 521,
     "status": "ok",
     "timestamp": 1699885901493,
     "user": {
      "displayName": "Анастасія Рибакова",
      "userId": "01514582576634099270"
     },
     "user_tz": -120
    },
    "id": "NMrsyxJYF_1k",
    "outputId": "4cf94f5a-7b39-42da-b1cb-f76fb58a68b7",
    "ExecuteTime": {
     "end_time": "2023-11-13T20:18:32.403660Z",
     "start_time": "2023-11-13T20:18:32.259954Z"
    }
   },
   "outputs": [
    {
     "data": {
      "text/plain": "         N                 Должность Язык.программирования Специализация  \\\n0        1        Junior QA engineer                   NaN     Manual QA   \n1        2        Junior QA engineer                   NaN     Manual QA   \n2        3         Software Engineer               C#/.NET           NaN   \n3        4         Software Engineer            JavaScript           NaN   \n4        5  Senior Software Engineer            JavaScript           NaN   \n...    ...                       ...                   ...           ...   \n8699  8700               QA engineer                   NaN     Manual QA   \n8700  8701                 Marketing                   NaN           NaN   \n8701  8702  Junior Software Engineer            Ruby/Rails           NaN   \n8702  8703                 Team lead                   NaN           NaN   \n8703  8704  Senior Software Engineer                  Java           NaN   \n\n     Общий.опыт.работы Опыт.работы.на.текущем.месте  Зарплата.в.месяц  \\\n0                  0.5                          0.5               400   \n1     меньше 3 месяцев             меньше 3 месяцев               430   \n2                    4                            1              2500   \n3                    5                            4              2000   \n4       10 и более лет                          0.5              4500   \n...                ...                          ...               ...   \n8699                 1             меньше 3 месяцев               700   \n8700               0.5                          0.5               400   \n8701                 1                          0.5               800   \n8702                 6                            4              2600   \n8703                 7                            2              5000   \n\n      Изменение.зарплаты.за.12.месяцев    Город     Размер.компании  ...  \\\n0                                    0  Харьков       до 10 человек  ...   \n1                                  130  Харьков  свыше 1000 человек  ...   \n2                                  800     Киев     до 1000 человек  ...   \n3                                  400   Одесса      до 200 человек  ...   \n4                                  500   Другой       до 10 человек  ...   \n...                                ...      ...                 ...  ...   \n8699                               700   Одесса       до 50 человек  ...   \n8700                               120     Киев       до 50 человек  ...   \n8701                               500    Львов       до 10 человек  ...   \n8702                                 0    Днепр  свыше 1000 человек  ...   \n8703                               800   Одесса     до 1000 человек  ...   \n\n     Еще.студент Уровень.английского                    Предметная.область  \\\n0           True       ниже среднего                         iOS,eCommerce   \n1           True       выше среднего                        Веб-разработка   \n2          False             средний  Веб-разработка,Корпоративные системы   \n3          False       ниже среднего   Desktop Applications,Веб-разработка   \n4          False             средний   Desktop Applications,Веб-разработка   \n...          ...                 ...                                   ...   \n8699       False             средний          Android,Desktop Applications   \n8700       False       ниже среднего                             eCommerce   \n8701       False       выше среднего  Веб-разработка,Корпоративные системы   \n8702       False         продвинутый                       Финансы и банки   \n8703       False       выше среднего                        Веб-разработка   \n\n          Дата.заполнения                                         User.Agent  \\\n0     12/06/2017 12:38:08  Mozilla/5.0 (Windows NT 10.0; Win64; x64) Appl...   \n1     12/06/2017 12:42:51  Mozilla/5.0 (iPad; CPU OS 10_2_1 like Mac OS X...   \n2     12/06/2017 13:02:47  Mozilla/5.0 (Windows NT 10.0; Win64; x64) Appl...   \n3     12/06/2017 13:03:01  Mozilla/5.0 (Windows NT 6.1; Win64; x64) Apple...   \n4     12/06/2017 13:03:47  Mozilla/5.0 (iPhone; CPU iPhone OS 10_3_2 like...   \n...                   ...                                                ...   \n8699  12/07/2017 15:45:24  Mozilla/5.0 (X11; Ubuntu; Linux x86_64; rv:54....   \n8700  12/07/2017 17:00:06  Mozilla/5.0 (Windows NT 10.0; Win64; x64) Appl...   \n8701  12/07/2017 17:32:26  Mozilla/5.0 (X11; Linux x86_64) AppleWebKit/53...   \n8702  12/07/2017 18:14:59  Mozilla/5.0 (Windows NT 6.1) AppleWebKit/537.3...   \n8703  12/07/2017 21:28:57  Mozilla/5.0 (iPad; CPU OS 10_3_2 like Mac OS X...   \n\n       exp current_job_exp salary Валюта  cls  \n0      0.5             0.5    400    NaN   QA  \n1      0.0             0.0    430    NaN   QA  \n2      4.0             1.0   2500    NaN  DEV  \n3      5.0             4.0   2000    NaN  DEV  \n4     10.0             0.5   4500    NaN  DEV  \n...    ...             ...    ...    ...  ...  \n8699   1.0             0.0    700    NaN   QA  \n8700   0.5             0.5    400    NaN  NaN  \n8701   1.0             0.5    800    NaN  DEV  \n8702   6.0             4.0   2600    NaN   PM  \n8703   7.0             2.0   5000    NaN  DEV  \n\n[8704 rows x 25 columns]",
      "text/html": "<div>\n<style scoped>\n    .dataframe tbody tr th:only-of-type {\n        vertical-align: middle;\n    }\n\n    .dataframe tbody tr th {\n        vertical-align: top;\n    }\n\n    .dataframe thead th {\n        text-align: right;\n    }\n</style>\n<table border=\"1\" class=\"dataframe\">\n  <thead>\n    <tr style=\"text-align: right;\">\n      <th></th>\n      <th>N</th>\n      <th>Должность</th>\n      <th>Язык.программирования</th>\n      <th>Специализация</th>\n      <th>Общий.опыт.работы</th>\n      <th>Опыт.работы.на.текущем.месте</th>\n      <th>Зарплата.в.месяц</th>\n      <th>Изменение.зарплаты.за.12.месяцев</th>\n      <th>Город</th>\n      <th>Размер.компании</th>\n      <th>...</th>\n      <th>Еще.студент</th>\n      <th>Уровень.английского</th>\n      <th>Предметная.область</th>\n      <th>Дата.заполнения</th>\n      <th>User.Agent</th>\n      <th>exp</th>\n      <th>current_job_exp</th>\n      <th>salary</th>\n      <th>Валюта</th>\n      <th>cls</th>\n    </tr>\n  </thead>\n  <tbody>\n    <tr>\n      <th>0</th>\n      <td>1</td>\n      <td>Junior QA engineer</td>\n      <td>NaN</td>\n      <td>Manual QA</td>\n      <td>0.5</td>\n      <td>0.5</td>\n      <td>400</td>\n      <td>0</td>\n      <td>Харьков</td>\n      <td>до 10 человек</td>\n      <td>...</td>\n      <td>True</td>\n      <td>ниже среднего</td>\n      <td>iOS,eCommerce</td>\n      <td>12/06/2017 12:38:08</td>\n      <td>Mozilla/5.0 (Windows NT 10.0; Win64; x64) Appl...</td>\n      <td>0.5</td>\n      <td>0.5</td>\n      <td>400</td>\n      <td>NaN</td>\n      <td>QA</td>\n    </tr>\n    <tr>\n      <th>1</th>\n      <td>2</td>\n      <td>Junior QA engineer</td>\n      <td>NaN</td>\n      <td>Manual QA</td>\n      <td>меньше 3 месяцев</td>\n      <td>меньше 3 месяцев</td>\n      <td>430</td>\n      <td>130</td>\n      <td>Харьков</td>\n      <td>свыше 1000 человек</td>\n      <td>...</td>\n      <td>True</td>\n      <td>выше среднего</td>\n      <td>Веб-разработка</td>\n      <td>12/06/2017 12:42:51</td>\n      <td>Mozilla/5.0 (iPad; CPU OS 10_2_1 like Mac OS X...</td>\n      <td>0.0</td>\n      <td>0.0</td>\n      <td>430</td>\n      <td>NaN</td>\n      <td>QA</td>\n    </tr>\n    <tr>\n      <th>2</th>\n      <td>3</td>\n      <td>Software Engineer</td>\n      <td>C#/.NET</td>\n      <td>NaN</td>\n      <td>4</td>\n      <td>1</td>\n      <td>2500</td>\n      <td>800</td>\n      <td>Киев</td>\n      <td>до 1000 человек</td>\n      <td>...</td>\n      <td>False</td>\n      <td>средний</td>\n      <td>Веб-разработка,Корпоративные системы</td>\n      <td>12/06/2017 13:02:47</td>\n      <td>Mozilla/5.0 (Windows NT 10.0; Win64; x64) Appl...</td>\n      <td>4.0</td>\n      <td>1.0</td>\n      <td>2500</td>\n      <td>NaN</td>\n      <td>DEV</td>\n    </tr>\n    <tr>\n      <th>3</th>\n      <td>4</td>\n      <td>Software Engineer</td>\n      <td>JavaScript</td>\n      <td>NaN</td>\n      <td>5</td>\n      <td>4</td>\n      <td>2000</td>\n      <td>400</td>\n      <td>Одесса</td>\n      <td>до 200 человек</td>\n      <td>...</td>\n      <td>False</td>\n      <td>ниже среднего</td>\n      <td>Desktop Applications,Веб-разработка</td>\n      <td>12/06/2017 13:03:01</td>\n      <td>Mozilla/5.0 (Windows NT 6.1; Win64; x64) Apple...</td>\n      <td>5.0</td>\n      <td>4.0</td>\n      <td>2000</td>\n      <td>NaN</td>\n      <td>DEV</td>\n    </tr>\n    <tr>\n      <th>4</th>\n      <td>5</td>\n      <td>Senior Software Engineer</td>\n      <td>JavaScript</td>\n      <td>NaN</td>\n      <td>10 и более лет</td>\n      <td>0.5</td>\n      <td>4500</td>\n      <td>500</td>\n      <td>Другой</td>\n      <td>до 10 человек</td>\n      <td>...</td>\n      <td>False</td>\n      <td>средний</td>\n      <td>Desktop Applications,Веб-разработка</td>\n      <td>12/06/2017 13:03:47</td>\n      <td>Mozilla/5.0 (iPhone; CPU iPhone OS 10_3_2 like...</td>\n      <td>10.0</td>\n      <td>0.5</td>\n      <td>4500</td>\n      <td>NaN</td>\n      <td>DEV</td>\n    </tr>\n    <tr>\n      <th>...</th>\n      <td>...</td>\n      <td>...</td>\n      <td>...</td>\n      <td>...</td>\n      <td>...</td>\n      <td>...</td>\n      <td>...</td>\n      <td>...</td>\n      <td>...</td>\n      <td>...</td>\n      <td>...</td>\n      <td>...</td>\n      <td>...</td>\n      <td>...</td>\n      <td>...</td>\n      <td>...</td>\n      <td>...</td>\n      <td>...</td>\n      <td>...</td>\n      <td>...</td>\n      <td>...</td>\n    </tr>\n    <tr>\n      <th>8699</th>\n      <td>8700</td>\n      <td>QA engineer</td>\n      <td>NaN</td>\n      <td>Manual QA</td>\n      <td>1</td>\n      <td>меньше 3 месяцев</td>\n      <td>700</td>\n      <td>700</td>\n      <td>Одесса</td>\n      <td>до 50 человек</td>\n      <td>...</td>\n      <td>False</td>\n      <td>средний</td>\n      <td>Android,Desktop Applications</td>\n      <td>12/07/2017 15:45:24</td>\n      <td>Mozilla/5.0 (X11; Ubuntu; Linux x86_64; rv:54....</td>\n      <td>1.0</td>\n      <td>0.0</td>\n      <td>700</td>\n      <td>NaN</td>\n      <td>QA</td>\n    </tr>\n    <tr>\n      <th>8700</th>\n      <td>8701</td>\n      <td>Marketing</td>\n      <td>NaN</td>\n      <td>NaN</td>\n      <td>0.5</td>\n      <td>0.5</td>\n      <td>400</td>\n      <td>120</td>\n      <td>Киев</td>\n      <td>до 50 человек</td>\n      <td>...</td>\n      <td>False</td>\n      <td>ниже среднего</td>\n      <td>eCommerce</td>\n      <td>12/07/2017 17:00:06</td>\n      <td>Mozilla/5.0 (Windows NT 10.0; Win64; x64) Appl...</td>\n      <td>0.5</td>\n      <td>0.5</td>\n      <td>400</td>\n      <td>NaN</td>\n      <td>NaN</td>\n    </tr>\n    <tr>\n      <th>8701</th>\n      <td>8702</td>\n      <td>Junior Software Engineer</td>\n      <td>Ruby/Rails</td>\n      <td>NaN</td>\n      <td>1</td>\n      <td>0.5</td>\n      <td>800</td>\n      <td>500</td>\n      <td>Львов</td>\n      <td>до 10 человек</td>\n      <td>...</td>\n      <td>False</td>\n      <td>выше среднего</td>\n      <td>Веб-разработка,Корпоративные системы</td>\n      <td>12/07/2017 17:32:26</td>\n      <td>Mozilla/5.0 (X11; Linux x86_64) AppleWebKit/53...</td>\n      <td>1.0</td>\n      <td>0.5</td>\n      <td>800</td>\n      <td>NaN</td>\n      <td>DEV</td>\n    </tr>\n    <tr>\n      <th>8702</th>\n      <td>8703</td>\n      <td>Team lead</td>\n      <td>NaN</td>\n      <td>NaN</td>\n      <td>6</td>\n      <td>4</td>\n      <td>2600</td>\n      <td>0</td>\n      <td>Днепр</td>\n      <td>свыше 1000 человек</td>\n      <td>...</td>\n      <td>False</td>\n      <td>продвинутый</td>\n      <td>Финансы и банки</td>\n      <td>12/07/2017 18:14:59</td>\n      <td>Mozilla/5.0 (Windows NT 6.1) AppleWebKit/537.3...</td>\n      <td>6.0</td>\n      <td>4.0</td>\n      <td>2600</td>\n      <td>NaN</td>\n      <td>PM</td>\n    </tr>\n    <tr>\n      <th>8703</th>\n      <td>8704</td>\n      <td>Senior Software Engineer</td>\n      <td>Java</td>\n      <td>NaN</td>\n      <td>7</td>\n      <td>2</td>\n      <td>5000</td>\n      <td>800</td>\n      <td>Одесса</td>\n      <td>до 1000 человек</td>\n      <td>...</td>\n      <td>False</td>\n      <td>выше среднего</td>\n      <td>Веб-разработка</td>\n      <td>12/07/2017 21:28:57</td>\n      <td>Mozilla/5.0 (iPad; CPU OS 10_3_2 like Mac OS X...</td>\n      <td>7.0</td>\n      <td>2.0</td>\n      <td>5000</td>\n      <td>NaN</td>\n      <td>DEV</td>\n    </tr>\n  </tbody>\n</table>\n<p>8704 rows × 25 columns</p>\n</div>"
     },
     "execution_count": 31,
     "metadata": {},
     "output_type": "execute_result"
    }
   ],
   "source": [
    "#Збережіть отриману таблицю в CSV файл\n",
    "df.to_csv('output_file.csv', index=False)\n",
    "df"
   ]
  },
  {
   "cell_type": "code",
   "execution_count": 32,
   "metadata": {
    "colab": {
     "base_uri": "https://localhost:8080/",
     "height": 564
    },
    "executionInfo": {
     "elapsed": 4327,
     "status": "ok",
     "timestamp": 1699885949967,
     "user": {
      "displayName": "Анастасія Рибакова",
      "userId": "01514582576634099270"
     },
     "user_tz": -120
    },
    "id": "F3Q_UUh7GGEf",
    "outputId": "9fae044f-fb7c-453a-94a8-3bf449d71e8d",
    "ExecuteTime": {
     "end_time": "2023-11-13T20:18:32.453796Z",
     "start_time": "2023-11-13T20:18:32.315776Z"
    }
   },
   "outputs": [
    {
     "ename": "ModuleNotFoundError",
     "evalue": "No module named 'seaborn'",
     "output_type": "error",
     "traceback": [
      "\u001B[0;31m---------------------------------------------------------------------------\u001B[0m",
      "\u001B[0;31mModuleNotFoundError\u001B[0m                       Traceback (most recent call last)",
      "Cell \u001B[0;32mIn[32], line 4\u001B[0m\n\u001B[1;32m      2\u001B[0m \u001B[38;5;28;01mimport\u001B[39;00m \u001B[38;5;21;01mpandas\u001B[39;00m \u001B[38;5;28;01mas\u001B[39;00m \u001B[38;5;21;01mpd\u001B[39;00m\n\u001B[1;32m      3\u001B[0m \u001B[38;5;28;01mimport\u001B[39;00m \u001B[38;5;21;01mmatplotlib\u001B[39;00m\u001B[38;5;21;01m.\u001B[39;00m\u001B[38;5;21;01mpyplot\u001B[39;00m \u001B[38;5;28;01mas\u001B[39;00m \u001B[38;5;21;01mplt\u001B[39;00m\n\u001B[0;32m----> 4\u001B[0m \u001B[38;5;28;01mimport\u001B[39;00m \u001B[38;5;21;01mseaborn\u001B[39;00m \u001B[38;5;28;01mas\u001B[39;00m \u001B[38;5;21;01msns\u001B[39;00m\n\u001B[1;32m      6\u001B[0m get_ipython()\u001B[38;5;241m.\u001B[39mrun_line_magic(\u001B[38;5;124m'\u001B[39m\u001B[38;5;124mmatplotlib\u001B[39m\u001B[38;5;124m'\u001B[39m, \u001B[38;5;124m'\u001B[39m\u001B[38;5;124minline\u001B[39m\u001B[38;5;124m'\u001B[39m)\n\u001B[1;32m      8\u001B[0m file_path \u001B[38;5;241m=\u001B[39m \u001B[38;5;124m\"\u001B[39m\u001B[38;5;124mhttps://drive.google.com/file/d/1JMYqXipZpz9Y5-vyxvLEO2Y1sRBxqu-U/view\u001B[39m\u001B[38;5;124m\"\u001B[39m\n",
      "\u001B[0;31mModuleNotFoundError\u001B[0m: No module named 'seaborn'"
     ]
    }
   ],
   "source": [
    "#Графік 1: Розподіл зарплати в місяць\n",
    "import pandas as pd\n",
    "import matplotlib.pyplot as plt\n",
    "import seaborn as sns\n",
    "\n",
    "%matplotlib inline\n",
    "\n",
    "file_path = \"https://drive.google.com/file/d/1JMYqXipZpz9Y5-vyxvLEO2Y1sRBxqu-U/view\"\n",
    "file_id = file_path.split(\"/\")[-2]\n",
    "download_link = f\"https://drive.google.com/uc?id={file_id}\"\n",
    "df = pd.read_csv(download_link)\n",
    "plt.figure(figsize=(10, 6))\n",
    "sns.histplot(df['Зарплата.в.месяц'], bins=20, kde=True, color='skyblue')\n",
    "plt.title('Розподіл зарплати в місяць')\n",
    "plt.xlabel('Зарплата в місяць')\n",
    "plt.ylabel('Частота')\n",
    "plt.show()"
   ]
  },
  {
   "cell_type": "code",
   "execution_count": null,
   "metadata": {
    "colab": {
     "base_uri": "https://localhost:8080/",
     "height": 564
    },
    "executionInfo": {
     "elapsed": 3546,
     "status": "ok",
     "timestamp": 1699885982826,
     "user": {
      "displayName": "Анастасія Рибакова",
      "userId": "01514582576634099270"
     },
     "user_tz": -120
    },
    "id": "35hv7E8LGQ7F",
    "outputId": "2f3a13a5-3f7f-401e-ce74-3d57e35857d9",
    "ExecuteTime": {
     "start_time": "2023-11-13T20:18:32.401410Z"
    }
   },
   "outputs": [],
   "source": [
    "#Графік 2: Line plot для динаміки зміни зарплати за 12 місяців\n",
    "plt.figure(figsize=(10, 6))\n",
    "sns.lineplot(x='current_job_exp', y='Изменение.зарплаты.за.12.месяцев', data=df, hue='Тип.компании', palette='Set2')\n",
    "plt.title('Line plot: Зміна зарплати за 12 місяців')\n",
    "plt.xlabel('Досвід в роках')\n",
    "plt.ylabel('Зміна зарплати за 12 місяців')\n",
    "plt.legend(title='Тип компанії')\n",
    "plt.show()"
   ]
  },
  {
   "cell_type": "code",
   "execution_count": null,
   "metadata": {
    "colab": {
     "base_uri": "https://localhost:8080/",
     "height": 685
    },
    "executionInfo": {
     "elapsed": 1443,
     "status": "ok",
     "timestamp": 1699886009808,
     "user": {
      "displayName": "Анастасія Рибакова",
      "userId": "01514582576634099270"
     },
     "user_tz": -120
    },
    "id": "eVRtl8eoGZLR",
    "outputId": "40361191-e33e-4c92-b0f5-903c9e34f19a",
    "ExecuteTime": {
     "start_time": "2023-11-13T20:18:32.406035Z"
    }
   },
   "outputs": [],
   "source": [
    "#Графік 3: Count plot для розподілу за посадами\n",
    "import seaborn as sns\n",
    "import matplotlib.pyplot as plt\n",
    "top_positions = df['Должность'].value_counts().head(10).index\n",
    "plt.figure(figsize=(10, 6))\n",
    "sns.countplot(x='Должность', data=df[df['Должность'].isin(top_positions)], palette='Pastel1')\n",
    "plt.title('Розподіл за посадами')\n",
    "plt.xlabel('Посада')\n",
    "plt.ylabel('Кількість')\n",
    "plt.xticks(rotation=45)\n",
    "plt.show()"
   ]
  }
 ],
 "metadata": {
  "colab": {
   "authorship_tag": "ABX9TyM/CYxU6VkdyRRrk/Ri8/5h",
   "provenance": []
  },
  "kernelspec": {
   "display_name": "Python 3 (ipykernel)",
   "language": "python",
   "name": "python3"
  },
  "language_info": {
   "codemirror_mode": {
    "name": "ipython",
    "version": 3
   },
   "file_extension": ".py",
   "mimetype": "text/x-python",
   "name": "python",
   "nbconvert_exporter": "python",
   "pygments_lexer": "ipython3",
   "version": "3.10.10"
  }
 },
 "nbformat": 4,
 "nbformat_minor": 0
}
